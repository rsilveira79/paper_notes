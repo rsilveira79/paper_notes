{
 "cells": [
  {
   "cell_type": "code",
   "execution_count": 1,
   "metadata": {},
   "outputs": [],
   "source": [
    "%matplotlib inline\n",
    "\n",
    "import torch\n",
    "from torch.autograd import Variable\n",
    "import torch.nn as nn\n",
    "import torch.nn.functional as F\n",
    "import torch.optim as optim\n",
    "\n",
    "import torchvision\n",
    "from torchvision import datasets, transforms\n",
    "\n",
    "import matplotlib.pyplot as plt\n",
    "import numpy as np\n",
    "import seaborn as sns"
   ]
  },
  {
   "cell_type": "code",
   "execution_count": 2,
   "metadata": {},
   "outputs": [],
   "source": [
    "params = {\n",
    "    'batch_size':  16,\n",
    "    'num_workers': 2,\n",
    "    'device':   'cpu',\n",
    "    'num_epochs': 4,\n",
    "    'learning_rate': 0.0001,\n",
    "    'weight_decay': 5e-4,\n",
    "}\n",
    "transform = transforms.ToTensor()\n",
    "## Train\n",
    "trainset = torchvision.datasets.MNIST('../data', \n",
    "                                      train=True, \n",
    "                                      download=True, \n",
    "                                      transform=transform)\n",
    "trainloader = torch.utils.data.DataLoader(trainset, \n",
    "                                          batch_size=params['batch_size'], \n",
    "                                          shuffle=True, \n",
    "                                          num_workers=params['num_workers'])\n",
    "### Test \n",
    "testset = torchvision.datasets.MNIST('../data', \n",
    "                                     train=False, \n",
    "                                     download=True, \n",
    "                                     transform=transform)\n",
    "testloader = torch.utils.data.DataLoader(testset, \n",
    "                                         batch_size=params['batch_size'], \n",
    "                                         shuffle=False, \n",
    "                                         num_workers=params['num_workers'])"
   ]
  },
  {
   "cell_type": "code",
   "execution_count": 3,
   "metadata": {},
   "outputs": [
    {
     "data": {
      "text/plain": [
       "Dataset MNIST\n",
       "    Number of datapoints: 60000\n",
       "    Split: train\n",
       "    Root Location: ../data\n",
       "    Transforms (if any): ToTensor()\n",
       "    Target Transforms (if any): None"
      ]
     },
     "execution_count": 3,
     "metadata": {},
     "output_type": "execute_result"
    }
   ],
   "source": [
    "trainloader.dataset"
   ]
  },
  {
   "cell_type": "code",
   "execution_count": 4,
   "metadata": {},
   "outputs": [
    {
     "data": {
      "text/plain": [
       "Dataset MNIST\n",
       "    Number of datapoints: 10000\n",
       "    Split: test\n",
       "    Root Location: ../data\n",
       "    Transforms (if any): ToTensor()\n",
       "    Target Transforms (if any): None"
      ]
     },
     "execution_count": 4,
     "metadata": {},
     "output_type": "execute_result"
    }
   ],
   "source": [
    "testloader.dataset"
   ]
  },
  {
   "cell_type": "code",
   "execution_count": 5,
   "metadata": {},
   "outputs": [],
   "source": [
    "def show_batch(batch):\n",
    "    im = torchvision.utils.make_grid(batch)\n",
    "    plt.imshow(np.transpose(im.numpy(), (1, 2, 0)))"
   ]
  },
  {
   "cell_type": "code",
   "execution_count": 6,
   "metadata": {},
   "outputs": [
    {
     "name": "stdout",
     "output_type": "stream",
     "text": [
      "tensor([2, 1, 1, 3, 8, 0, 8, 0, 5, 0, 9, 4, 0, 7, 6, 3])\n"
     ]
    },
    {
     "data": {
      "image/png": "[encoded data removed]",
      "text/plain": [
       "<Figure size 432x288 with 1 Axes>"
      ]
     },
     "metadata": {},
     "output_type": "display_data"
    }
   ],
   "source": [
    "dataiter = iter(trainloader)\n",
    "images, labels = dataiter.next()\n",
    "print(labels)\n",
    "show_batch(images)"
   ]
  },
  {
   "cell_type": "code",
   "execution_count": 7,
   "metadata": {},
   "outputs": [],
   "source": [
    "## Simple MLP\n",
    "class MLP(nn.Module):\n",
    "    def __init__(self, input_size, hidden_size, num_labels):\n",
    "        super(MLP, self).__init__()\n",
    "        self.linear1 = nn.Linear(input_size, hidden_size)\n",
    "        self.linear2 = nn.Linear(hidden_size, num_labels)\n",
    "\n",
    "    def forward(self, x):\n",
    "        h_relu = F.relu(self.linear1(x.view(params['batch_size'], -1)))\n",
    "        y_pred = self.linear2(h_relu)\n",
    "        return y_pred"
   ]
  },
  {
   "cell_type": "code",
   "execution_count": 8,
   "metadata": {},
   "outputs": [
    {
     "data": {
      "text/plain": [
       "MLP(\n",
       "  (linear1): Linear(in_features=784, out_features=32, bias=True)\n",
       "  (linear2): Linear(in_features=32, out_features=10, bias=True)\n",
       ")"
      ]
     },
     "execution_count": 8,
     "metadata": {},
     "output_type": "execute_result"
    }
   ],
   "source": [
    "NUM_LABELS = len(list(set(trainloader.dataset.train_labels.numpy())))\n",
    "INPUT_SIZE = trainloader.dataset.train_data[0].flatten().shape[0]\n",
    "HIDDEN_SIZE = 32\n",
    "model = MLP(INPUT_SIZE, HIDDEN_SIZE, NUM_LABELS)\n",
    "model"
   ]
  },
  {
   "cell_type": "code",
   "execution_count": 9,
   "metadata": {},
   "outputs": [],
   "source": [
    "def train(model, trainloader, criterion, optimizer, n_epochs=10):\n",
    "    for t in range(n_epochs):\n",
    "        for i, data in enumerate(trainloader):\n",
    "            inputs, labels = data\n",
    "            optimizer.zero_grad()\n",
    "            outputs = model(inputs)\n",
    "            loss = criterion(outputs, labels) \n",
    "            loss.backward() \n",
    "            optimizer.step()\n",
    "\n",
    "            if not i % 2000:\n",
    "                print(\"    --> EPOCH {}, ITER {}, LOSS {}\".format(t, i, loss.data.numpy()))"
   ]
  },
  {
   "cell_type": "code",
   "execution_count": 10,
   "metadata": {},
   "outputs": [
    {
     "name": "stdout",
     "output_type": "stream",
     "text": [
      "    --> EPOCH 0, ITER 0, LOSS 2.276787757873535\n",
      "    --> EPOCH 0, ITER 2000, LOSS 0.3918612003326416\n",
      "    --> EPOCH 1, ITER 0, LOSS 0.3521057069301605\n",
      "    --> EPOCH 1, ITER 2000, LOSS 0.41213178634643555\n",
      "    --> EPOCH 2, ITER 0, LOSS 0.3926185667514801\n",
      "    --> EPOCH 2, ITER 2000, LOSS 0.11070802807807922\n",
      "    --> EPOCH 3, ITER 0, LOSS 0.3200305104255676\n",
      "    --> EPOCH 3, ITER 2000, LOSS 0.5517382025718689\n"
     ]
    }
   ],
   "source": [
    "criterion = nn.CrossEntropyLoss()\n",
    "optimizer = optim.Adam(model.parameters(), lr=params['learning_rate'])\n",
    "train(model, trainloader, criterion, optimizer, n_epochs = params['num_epochs'])"
   ]
  },
  {
   "cell_type": "code",
   "execution_count": 11,
   "metadata": {},
   "outputs": [],
   "source": [
    "def predict(model, images):\n",
    "    outputs = model(images)\n",
    "    _, predicted = torch.max(outputs.data, 1)\n",
    "    return predicted"
   ]
  },
  {
   "cell_type": "code",
   "execution_count": 12,
   "metadata": {},
   "outputs": [
    {
     "name": "stdout",
     "output_type": "stream",
     "text": [
      "LABELS: [7 2 1 0 4 1 4 9 5 9 0 6 9 0 1 5]\n",
      "PREDICTION:  [7 2 1 0 4 1 4 9 6 9 0 6 9 0 1 5]\n"
     ]
    },
    {
     "data": {
      "image/png": "[encoded data removed]",
      "text/plain": [
       "<Figure size 432x288 with 1 Axes>"
      ]
     },
     "metadata": {},
     "output_type": "display_data"
    }
   ],
   "source": [
    "dataiter = iter(testloader)\n",
    "images, labels = dataiter.next()\n",
    "print(\"LABELS: {}\".format(labels.numpy()))\n",
    "print('PREDICTION: ', predict(model, images).numpy())\n",
    "show_batch(images)"
   ]
  },
  {
   "cell_type": "code",
   "execution_count": 13,
   "metadata": {},
   "outputs": [],
   "source": [
    "def test(model, testloader):\n",
    "    correct = 0\n",
    "    for data in testloader:\n",
    "        inputs, labels = data\n",
    "        pred = predict(model, inputs)\n",
    "        correct += (pred == labels).sum()\n",
    "    return 100 * correct / len(testset)"
   ]
  },
  {
   "cell_type": "code",
   "execution_count": 14,
   "metadata": {},
   "outputs": [
    {
     "name": "stdout",
     "output_type": "stream",
     "text": [
      "ACCURACY: 92%\n"
     ]
    }
   ],
   "source": [
    "print('ACCURACY: {}%'.format(test(model, testloader).numpy()))"
   ]
  },
  {
   "cell_type": "markdown",
   "metadata": {},
   "source": [
    "## Using Weight Pruning"
   ]
  },
  {
   "cell_type": "code",
   "execution_count": 15,
   "metadata": {},
   "outputs": [],
   "source": [
    "params = {\n",
    "    'pruning_perc': 85.,\n",
    "    'batch_size': 16, \n",
    "    'test_batch_size': 100,\n",
    "    'num_epochs': 4,\n",
    "    'learning_rate': 0.001,\n",
    "    'weight_decay': 5e-4,\n",
    "}"
   ]
  },
  {
   "cell_type": "code",
   "execution_count": 16,
   "metadata": {},
   "outputs": [],
   "source": [
    "class MaskedLinear(nn.Linear):\n",
    "    def __init__(self, in_features, out_features, bias=True):\n",
    "        super(MaskedLinear, self).__init__(in_features, out_features, bias)\n",
    "        self.mask_flag = False\n",
    "    \n",
    "    def set_mask(self, mask):\n",
    "        self.register_buffer('mask', mask)\n",
    "        mask_var = self.get_mask()\n",
    "        self.weight.data = self.weight.data*mask_var.data\n",
    "        self.mask_flag = True\n",
    "    \n",
    "    def get_mask(self):\n",
    "        return self.mask.clone().detach().requires_grad_(False)\n",
    "    \n",
    "    def set_sign(self, mask):\n",
    "        self.register_buffer('mask', mask)\n",
    "        mask_var = self.get_mask()\n",
    "        self.weight.data = self.weight.data*mask_var.data\n",
    "        self.mask_flag = True\n",
    "    \n",
    "    def forward(self, x):\n",
    "        if self.mask_flag == True:\n",
    "            mask_var = self.get_mask()\n",
    "            weight = self.weight * mask_var\n",
    "            return F.linear(x, weight, self.bias)\n",
    "        else:\n",
    "            return F.linear(x, self.weight, self.bias)"
   ]
  },
  {
   "cell_type": "code",
   "execution_count": 17,
   "metadata": {},
   "outputs": [],
   "source": [
    "## Simple MLP\n",
    "class MLP_weight_prunning(nn.Module):\n",
    "    def __init__(self, input_size, hidden_size, num_labels):\n",
    "        super(MLP_weight_prunning, self).__init__()\n",
    "        self.linear1 = MaskedLinear(input_size, hidden_size)\n",
    "        self.linear2 = MaskedLinear(hidden_size, num_labels)\n",
    "\n",
    "    def forward(self, x):\n",
    "        h_relu = F.relu(self.linear1(x.view(params['batch_size'], -1)))\n",
    "        y_pred = self.linear2(h_relu)\n",
    "        return y_pred\n",
    "    \n",
    "    def set_masks(self, masks):\n",
    "        self.linear1.set_mask(masks[0])\n",
    "        self.linear2.set_mask(masks[1])\n",
    "\n",
    "    def set_signs(self, signs):\n",
    "        sign_1 = torch.FloatTensor(signs[0]).view(self.linear1.weight.data.shape[0],-1)\n",
    "        sign_2 = torch.FloatTensor(signs[1]).view(self.linear2.weight.data.shape[0],-1)\n",
    "        self.linear1.weight.data = torch.mul(self.linear1.weight.data.abs(),sign_1)\n",
    "        self.linear2.weight.data = torch.mul(self.linear2.weight.data.abs(),sign_2)"
   ]
  },
  {
   "cell_type": "code",
   "execution_count": 18,
   "metadata": {},
   "outputs": [
    {
     "name": "stdout",
     "output_type": "stream",
     "text": [
      "ACCURACY: 13%\n"
     ]
    },
    {
     "data": {
      "text/plain": [
       "MLP_weight_prunning(\n",
       "  (linear1): MaskedLinear(in_features=784, out_features=32, bias=True)\n",
       "  (linear2): MaskedLinear(in_features=32, out_features=10, bias=True)\n",
       ")"
      ]
     },
     "execution_count": 18,
     "metadata": {},
     "output_type": "execute_result"
    }
   ],
   "source": [
    "NUM_LABELS = len(list(set(trainloader.dataset.train_labels.numpy())))\n",
    "INPUT_SIZE = trainloader.dataset.train_data[0].flatten().shape[0]\n",
    "HIDDEN_SIZE = 32\n",
    "\n",
    "model_2 = MLP_weight_prunning(INPUT_SIZE, HIDDEN_SIZE, NUM_LABELS)\n",
    "print('ACCURACY: {}%'.format(test(model_2, testloader).numpy()))\n",
    "model_2"
   ]
  },
  {
   "cell_type": "code",
   "execution_count": 19,
   "metadata": {},
   "outputs": [],
   "source": [
    "def weight_prune(model, pruning_perc):\n",
    "    '''\n",
    "    Prune pruning_perc% weights globally (not layer-wise)\n",
    "    arXiv: 1606.09274\n",
    "    '''    \n",
    "    all_weights = []\n",
    "    for p in model.parameters():\n",
    "        if len(p.data.size()) != 1:\n",
    "        ## Skip bias layers\n",
    "            all_weights += list(p.cpu().data.abs().numpy().flatten())\n",
    "    threshold = np.percentile(np.array(all_weights), pruning_perc)\n",
    "    print(\"Threshold value: {}\".format(threshold))\n",
    "    # generate mask\n",
    "    masks = []\n",
    "    for p in model.parameters():\n",
    "        if len(p.data.size()) != 1:\n",
    "            pruned_inds = p.data.abs() > threshold\n",
    "            \n",
    "            masks.append(pruned_inds.float())\n",
    "    return masks"
   ]
  },
  {
   "cell_type": "code",
   "execution_count": 20,
   "metadata": {},
   "outputs": [],
   "source": [
    "def weight_prune_sign(model, pruning_perc):\n",
    "    '''\n",
    "    Prune pruning_perc% weights globally (not layer-wise)\n",
    "    arXiv: 1606.09274\n",
    "    '''    \n",
    "    all_weights = []\n",
    "    for p in model.parameters():\n",
    "        if len(p.data.size()) != 1:\n",
    "        ## Skip bias layers\n",
    "            all_weights += list(p.cpu().data.abs().numpy().flatten())\n",
    "    threshold = np.percentile(np.array(all_weights), pruning_perc)\n",
    "    # generate mask\n",
    "    masks = []\n",
    "    signs = []\n",
    "    for p in model.parameters():\n",
    "        if len(p.data.size()) != 1:\n",
    "            pruned_inds = p.data.abs() > threshold\n",
    "            signs_inds = np.sign(p.data)\n",
    "            masks.append(pruned_inds.float())\n",
    "            signs.append(signs_inds)\n",
    "    return masks, signs"
   ]
  },
  {
   "cell_type": "code",
   "execution_count": null,
   "metadata": {},
   "outputs": [],
   "source": [
    "s_mask[0][0:,:1]"
   ]
  },
  {
   "cell_type": "code",
   "execution_count": 21,
   "metadata": {},
   "outputs": [],
   "source": [
    "def weight_prune_2(model, pruning_perc, prune_method = 'large final'): \n",
    "    all_masks = []\n",
    "    for p in model.parameters():\n",
    "        mask = []\n",
    "        if len(p.data.size()) != 1:\n",
    "        ## Skip bias layers\n",
    "            weights = list(p.cpu().data.abs().numpy().flatten())\n",
    "            threshold = np.percentile(np.array(weights), pruning_perc)\n",
    "            pruned_inds = p.data.abs() > threshold\n",
    "            all_masks.append(pruned_inds.float())\n",
    "    return all_masks"
   ]
  },
  {
   "cell_type": "code",
   "execution_count": 22,
   "metadata": {},
   "outputs": [],
   "source": [
    "def get_weights(model):\n",
    "    all_weights = []\n",
    "    for p in model.parameters():\n",
    "        if len(p.data.size()) != 1:\n",
    "            weights = list(p.cpu().data.numpy().flatten())\n",
    "            #weights_sign = [1 if x>0 else -1 for x in weights]\n",
    "            all_weights.append(weights)\n",
    "            #all_weights_sign.append(weights_sign)\n",
    "    return all_weights"
   ]
  },
  {
   "cell_type": "code",
   "execution_count": 23,
   "metadata": {},
   "outputs": [],
   "source": [
    "def count_zeros_percentage(vec):\n",
    "    return np.count_nonzero(vec.flatten()==0)/vec.flatten().shape[0]\n",
    "def count_zeros_percentage_list(vec):\n",
    "    return np.count_nonzero(np.array(vec)==0.0)/len(vec)"
   ]
  },
  {
   "cell_type": "code",
   "execution_count": 24,
   "metadata": {},
   "outputs": [],
   "source": [
    "def prune_model(model, pruning_perc):\n",
    "    weight_mask, sign_mask = weight_prune_sign(model, pruning_perc)\n",
    "    model.set_masks(weight_mask)\n",
    "    return model, weight_mask, sign_mask"
   ]
  },
  {
   "cell_type": "markdown",
   "metadata": {},
   "source": [
    "## Plot Weights"
   ]
  },
  {
   "cell_type": "code",
   "execution_count": 66,
   "metadata": {},
   "outputs": [
    {
     "name": "stdout",
     "output_type": "stream",
     "text": [
      "ACCURACY: 9%\n"
     ]
    }
   ],
   "source": [
    "model_plot = MLP_weight_prunning(INPUT_SIZE, HIDDEN_SIZE, NUM_LABELS)\n",
    "weights_original  = get_weights(model_plot)\n",
    "print('ACCURACY: {}%'.format(test(model_plot, testloader).numpy()))"
   ]
  },
  {
   "cell_type": "code",
   "execution_count": 67,
   "metadata": {},
   "outputs": [
    {
     "name": "stdout",
     "output_type": "stream",
     "text": [
      "ACCURACY: 9%\n"
     ]
    },
    {
     "data": {
      "text/plain": [
       "<matplotlib.axes._subplots.AxesSubplot at 0x120e475c0>"
      ]
     },
     "execution_count": 67,
     "metadata": {},
     "output_type": "execute_result"
    },
    {
     "data": {
      "image/png": "[encoded data removed]",
      "text/plain": [
       "<Figure size 432x288 with 1 Axes>"
      ]
     },
     "metadata": {},
     "output_type": "display_data"
    }
   ],
   "source": [
    "weights_pruned_untrained  = get_weights(model_plot)\n",
    "print('ACCURACY: {}%'.format(test(model_plot, testloader).numpy()))\n",
    "sns.scatterplot(weights_original[0]+weights_original[1], weights_pruned_untrained[0] + weights_pruned_untrained[1] )"
   ]
  },
  {
   "cell_type": "code",
   "execution_count": 68,
   "metadata": {},
   "outputs": [
    {
     "name": "stdout",
     "output_type": "stream",
     "text": [
      "    --> EPOCH 0, ITER 0, LOSS 2.324638843536377\n",
      "    --> EPOCH 0, ITER 2000, LOSS 0.4379372000694275\n",
      "    --> EPOCH 1, ITER 0, LOSS 0.09845754504203796\n",
      "    --> EPOCH 1, ITER 2000, LOSS 0.056322336196899414\n",
      "    --> EPOCH 2, ITER 0, LOSS 0.06611917912960052\n",
      "    --> EPOCH 2, ITER 2000, LOSS 0.21659734845161438\n",
      "    --> EPOCH 3, ITER 0, LOSS 0.026007622480392456\n",
      "    --> EPOCH 3, ITER 2000, LOSS 0.1552428901195526\n"
     ]
    }
   ],
   "source": [
    "## prune before training\n",
    "criterion = nn.CrossEntropyLoss()\n",
    "optimizer = optim.Adam(model_plot.parameters(), lr=params['learning_rate'])\n",
    "train(model_plot, trainloader, criterion, optimizer, n_epochs = params['num_epochs'])"
   ]
  },
  {
   "cell_type": "code",
   "execution_count": 69,
   "metadata": {},
   "outputs": [
    {
     "name": "stdout",
     "output_type": "stream",
     "text": [
      "ACCURACY: 93%\n"
     ]
    },
    {
     "data": {
      "text/plain": [
       "<matplotlib.axes._subplots.AxesSubplot at 0x11f9a5048>"
      ]
     },
     "execution_count": 69,
     "metadata": {},
     "output_type": "execute_result"
    },
    {
     "data": {
      "image/png": "[encoded data removed]",
      "text/plain": [
       "<Figure size 432x288 with 1 Axes>"
      ]
     },
     "metadata": {},
     "output_type": "display_data"
    }
   ],
   "source": [
    "## Prune the model and train\n",
    "weights_original  = get_weights(model_plot)\n",
    "model_plot, mask_weights_pruned, mask_sign_pruned = prune_model(model_plot, 70)\n",
    "weights_pruned_trained = get_weights(model_plot)\n",
    "print('ACCURACY: {}%'.format(test(model_plot, testloader).numpy()))\n",
    "sns.scatterplot(weights_original[0]+weights_original[1], weights_pruned_trained[0] + weights_pruned_trained[1] )"
   ]
  },
  {
   "cell_type": "code",
   "execution_count": 70,
   "metadata": {},
   "outputs": [
    {
     "name": "stdout",
     "output_type": "stream",
     "text": [
      "ACCURACY: 13%\n"
     ]
    }
   ],
   "source": [
    "## Apply Masks on New Model\n",
    "new_model = MLP_weight_prunning(INPUT_SIZE, HIDDEN_SIZE, NUM_LABELS)\n",
    "print('ACCURACY: {}%'.format(test(new_model, testloader).numpy()))"
   ]
  },
  {
   "cell_type": "code",
   "execution_count": 71,
   "metadata": {},
   "outputs": [
    {
     "name": "stdout",
     "output_type": "stream",
     "text": [
      "ACCURACY: 52%\n"
     ]
    }
   ],
   "source": [
    "## Apply Weight and Sign Mask\n",
    "new_model.set_masks(mask_weights_pruned)\n",
    "new_model.set_signs(mask_sign_pruned)\n",
    "print('ACCURACY: {}%'.format(test(new_model, testloader).numpy()))"
   ]
  },
  {
   "cell_type": "markdown",
   "metadata": {},
   "source": [
    "### Train w/ Several Prune Rates"
   ]
  },
  {
   "cell_type": "code",
   "execution_count": null,
   "metadata": {},
   "outputs": [],
   "source": [
    "percentile_prune = [10, 20, 30, 50, 70, 90, 91, 92, 93, 94, 95, 96, 97, 98, 99]\n",
    "models_pruned = [prune_model(MLP_weight_prunning(INPUT_SIZE, HIDDEN_SIZE, NUM_LABELS), i) for i in percentile_prune]\n",
    "optimizer = [optim.Adam(models_pruned[i].parameters(),lr=params['learning_rate']) for i in range(len(percentile_prune))]\n",
    "losses = [nn.CrossEntropyLoss() for i in range(len(percentile_prune))]"
   ]
  },
  {
   "cell_type": "code",
   "execution_count": null,
   "metadata": {},
   "outputs": [],
   "source": [
    "accuracy_prune = []\n",
    "for i, (model, opt, loss) in enumerate(zip(models_pruned, optimizer, losses)):\n",
    "    print(\"Traning Prune {} %\".format(percentile_prune[i]))\n",
    "    train(model, trainloader, loss, opt, n_epochs = params['num_epochs'])\n",
    "    accuracy = test(model, testloader).numpy()\n",
    "    accuracy_prune.append(float(accuracy))\n",
    "    print('    --> TEST ACCURACY: {}%'.format(accuracy))\n",
    "    print('-'*50)"
   ]
  },
  {
   "cell_type": "code",
   "execution_count": null,
   "metadata": {},
   "outputs": [],
   "source": [
    "%matplotlib inline \n",
    "import seaborn as sns\n",
    "import matplotlib.pyplot as plt"
   ]
  },
  {
   "cell_type": "code",
   "execution_count": null,
   "metadata": {},
   "outputs": [],
   "source": [
    "sns.set(font_scale=1.2)\n",
    "sns.set_style(\"whitegrid\", {'grid.linestyle': '--'})\n",
    "plt.subplots(figsize=(18, 6))\n",
    "ax = sns.lineplot(percentile_prune, accuracy_prune)\n",
    "ax.set(xlabel='Prune %', ylabel='Test Accuracy %')"
   ]
  },
  {
   "cell_type": "code",
   "execution_count": null,
   "metadata": {},
   "outputs": [],
   "source": [
    "for mod in models_pruned:\n",
    "    print(count_zeros_percentage(mod.linear1.weight.data.numpy()),count_zeros_percentage(mod.linear2.weight.data.numpy()))\n",
    "    print('ACCURACY: {}%'.format(test(mod, testloader).numpy()))"
   ]
  },
  {
   "cell_type": "markdown",
   "metadata": {},
   "source": [
    "## Other Mask Methods"
   ]
  },
  {
   "cell_type": "code",
   "execution_count": null,
   "metadata": {},
   "outputs": [],
   "source": []
  },
  {
   "cell_type": "code",
   "execution_count": null,
   "metadata": {},
   "outputs": [],
   "source": []
  },
  {
   "cell_type": "code",
   "execution_count": null,
   "metadata": {},
   "outputs": [],
   "source": []
  },
  {
   "cell_type": "markdown",
   "metadata": {},
   "source": [
    "## References\n",
    "[1] https://github.com/zepx/pytorch-weight-prune/blob/develop/weight_pruning.py"
   ]
  }
 ],
 "metadata": {
  "kernelspec": {
   "display_name": "Bayesian",
   "language": "python",
   "name": "bayesian"
  },
  "language_info": {
   "codemirror_mode": {
    "name": "ipython",
    "version": 3
   },
   "file_extension": ".py",
   "mimetype": "text/x-python",
   "name": "python",
   "nbconvert_exporter": "python",
   "pygments_lexer": "ipython3",
   "version": "3.6.5"
  }
 },
 "nbformat": 4,
 "nbformat_minor": 2
}
