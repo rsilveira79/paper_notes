{
 "cells": [
  {
   "cell_type": "code",
   "execution_count": 1,
   "metadata": {},
   "outputs": [],
   "source": [
    "import numpy as np"
   ]
  },
  {
   "cell_type": "markdown",
   "metadata": {},
   "source": [
    "## An intro to Monte Carlo\n",
    "\n",
    "* Cleverly sample from a distribution to simulate the workings of a system\n"
   ]
  },
  {
   "cell_type": "markdown",
   "metadata": {},
   "source": [
    "We will approximate this integral below:\n",
    "\n",
    "$$ I = \\int_{0}^{\\infty}\\frac{\\exp^{-x}}{1+(x-1)^2}dx $$\n",
    "\n",
    "Theorem to find average of a function:  \n",
    "$$ f_{ave} = \\frac{1}{b-a}\\int_{a}^{b}f(x)dx $$  \n",
    "\n",
    "Monte Carlo trick --> instead of evaluate integral, estimate average of integrand and use to approximate integral, evaluate (sample) randomly and average the results"
   ]
  },
  {
   "cell_type": "code",
   "execution_count": 167,
   "metadata": {},
   "outputs": [
    {
     "data": {
      "text/plain": [
       "array([0.40439194, 0.70432394, 0.15880334, 0.19746726, 1.82663309,\n",
       "       0.96409482, 1.87965346, 0.06642278, 0.60959616, 0.38170192,\n",
       "       1.24911065, 0.66335052, 0.87789994, 1.19491459, 0.0535679 ,\n",
       "       0.4013391 , 0.97054388, 0.23582438, 1.15406043, 0.82386212])"
      ]
     },
     "execution_count": 167,
     "metadata": {},
     "output_type": "execute_result"
    }
   ],
   "source": [
    "x_start = 0\n",
    "x_end = 2\n",
    "num_points = 20\n",
    "x = np.random.uniform(x_start,x_end,num_points)\n",
    "x"
   ]
  },
  {
   "cell_type": "code",
   "execution_count": 174,
   "metadata": {},
   "outputs": [
    {
     "data": {
      "text/plain": [
       "array([0.80878389, 1.40864787, 0.31760667, 0.39493452, 3.65326618,\n",
       "       1.92818965, 3.75930692, 0.13284557, 1.21919232, 0.76340385,\n",
       "       2.4982213 , 1.32670105, 1.75579988, 2.38982918, 0.10713579,\n",
       "       0.80267821, 1.94108775, 0.47164876, 2.30812086, 1.64772425])"
      ]
     },
     "execution_count": 174,
     "metadata": {},
     "output_type": "execute_result"
    }
   ],
   "source": [
    "func_y = lambda x: 2*x\n",
    "vectorized_func_y = np.vectorize(func_y)\n",
    "output = vectorized_func_y(x)\n",
    "output"
   ]
  },
  {
   "cell_type": "code",
   "execution_count": 177,
   "metadata": {},
   "outputs": [
    {
     "data": {
      "text/plain": [
       "1.4817562241405173"
      ]
     },
     "execution_count": 177,
     "metadata": {},
     "output_type": "execute_result"
    }
   ],
   "source": [
    "np.average(output)"
   ]
  },
  {
   "cell_type": "code",
   "execution_count": 178,
   "metadata": {},
   "outputs": [],
   "source": [
    "## Useful Functions\n",
    "def get_random_interval(x_min, x_max, num_points):\n",
    "    return np.random.uniform(x_min,x_max,num_points)"
   ]
  },
  {
   "cell_type": "code",
   "execution_count": 179,
   "metadata": {},
   "outputs": [
    {
     "data": {
      "text/plain": [
       "array([1.14041717, 0.73852781, 9.14654182])"
      ]
     },
     "execution_count": 179,
     "metadata": {},
     "output_type": "execute_result"
    }
   ],
   "source": [
    "get_random_interval(0,10,3)"
   ]
  },
  {
   "cell_type": "code",
   "execution_count": 180,
   "metadata": {},
   "outputs": [],
   "source": [
    "def get_random_number(x_min, x_max):\n",
    "    return np.random.uniform(x_min,x_max,1)[0]"
   ]
  },
  {
   "cell_type": "code",
   "execution_count": 181,
   "metadata": {},
   "outputs": [
    {
     "data": {
      "text/plain": [
       "347.58114634980296"
      ]
     },
     "execution_count": 181,
     "metadata": {},
     "output_type": "execute_result"
    }
   ],
   "source": [
    "get_random_number(0,1000)"
   ]
  },
  {
   "cell_type": "code",
   "execution_count": 184,
   "metadata": {},
   "outputs": [],
   "source": [
    "## Function to integrate\n",
    "def eval_integrand(x):\n",
    "    func_y = lambda x: np.exp(-x)/(1+(x-1)**2)\n",
    "    vectorized_func_y = np.vectorize(func_y)\n",
    "    output = vectorized_func_y(x)\n",
    "    return output, np.average(output)"
   ]
  },
  {
   "cell_type": "code",
   "execution_count": 186,
   "metadata": {},
   "outputs": [
    {
     "data": {
      "text/plain": [
       "(array([0.49262448, 0.45469162, 0.49962416, 0.49925648, 0.09561721,\n",
       "        0.38083724, 0.08605471, 0.49997433, 0.47167927, 0.4938886 ,\n",
       "        0.27000429, 0.46268508, 0.40954916, 0.29164955, 0.49998667,\n",
       "        0.49280444, 0.37854847, 0.4986977 , 0.30804243, 0.42553199]),\n",
       " 0.4005873939068927)"
      ]
     },
     "execution_count": 186,
     "metadata": {},
     "output_type": "execute_result"
    }
   ],
   "source": [
    "eval_integrand(x)"
   ]
  },
  {
   "cell_type": "markdown",
   "metadata": {},
   "source": [
    "## Crude Monte Carlo Implementation\n",
    "\n",
    "1. Get random input from the integration range\n",
    "2. Evaluate integrand\n",
    "3. Repeat steps 1-2 for as long as you like\n",
    "4. Determine average of these samples"
   ]
  },
  {
   "cell_type": "code",
   "execution_count": 240,
   "metadata": {},
   "outputs": [],
   "source": [
    "def crude_mc(x_min, x_max, num_samp = 10000):\n",
    "    x = get_random_interval(x_min,x_max, num_samp)\n",
    "    y, y_average = eval_integrand(x)\n",
    "    return (x_max - x_min)*y_average"
   ]
  },
  {
   "cell_type": "code",
   "execution_count": 241,
   "metadata": {},
   "outputs": [
    {
     "data": {
      "text/plain": [
       "0.6932423191250163"
      ]
     },
     "execution_count": 241,
     "metadata": {},
     "output_type": "execute_result"
    }
   ],
   "source": [
    "crude_mc(0,5, 10000)"
   ]
  },
  {
   "cell_type": "markdown",
   "metadata": {},
   "source": [
    "## Sources\n",
    "[1. Towards DS Post - First](https://towardsdatascience.com/monte-carlo-simulations-with-python-part-1-f5627b7d60b0)  \n",
    "[2. Latex reference](https://www.overleaf.com/learn/latex/Integrals,_sums_and_limits#Sums_and_products)"
   ]
  },
  {
   "cell_type": "code",
   "execution_count": null,
   "metadata": {},
   "outputs": [],
   "source": []
  }
 ],
 "metadata": {
  "kernelspec": {
   "display_name": "Bayesian",
   "language": "python",
   "name": "bayesian"
  },
  "language_info": {
   "codemirror_mode": {
    "name": "ipython",
    "version": 3
   },
   "file_extension": ".py",
   "mimetype": "text/x-python",
   "name": "python",
   "nbconvert_exporter": "python",
   "pygments_lexer": "ipython3",
   "version": "3.6.5"
  }
 },
 "nbformat": 4,
 "nbformat_minor": 2
}
