{
 "cells": [
  {
   "cell_type": "markdown",
   "metadata": {},
   "source": [
    "## Problem statement\n",
    "Today's Bayesian problem of the week: Suppose we visit a wild animal preserve where we know that the only animals are lions and tigers and bears, but we don't know how many of each there are.\n",
    "During the tour, we see 3 lions, 2 tigers, and 1 bear. Assuming that every animal had an equal chance to appear in our sample, estimate the prevalence of each species.\n",
    "\n",
    "What is the probability that the next animal we see is a bear?\n",
    "\n",
    "50% lions, 33% tigers, 17% bear"
   ]
  },
  {
   "cell_type": "code",
   "execution_count": 15,
   "metadata": {},
   "outputs": [],
   "source": [
    "import numpy as np\n",
    "import pandas as pd\n",
    "\n",
    "animals = ['lions', 'tigers', 'bears']\n",
    "# Observations\n",
    "c = np.array([3, 2, 1])\n",
    "#Pseudocounts \n",
    "alphas = np.array([[1, 1, 1],\n",
    "                [0.1,0.1,0.1],\n",
    "                [5,5,5],\n",
    "                [15,15,15],\n",
    "                [20,1,20],\n",
    "                  ])\n"
   ]
  },
  {
   "cell_type": "code",
   "execution_count": 9,
   "metadata": {},
   "outputs": [
    {
     "name": "stdout",
     "output_type": "stream",
     "text": [
      "[0.44444444 0.33333333 0.22222222]\n",
      "[0.49206349 0.33333333 0.17460317]\n",
      "[0.38095238 0.33333333 0.28571429]\n",
      "[0.35294118 0.33333333 0.31372549]\n",
      "[0.4893617  0.06382979 0.44680851]\n"
     ]
    }
   ],
   "source": [
    "for i in range(alphas.shape[0]):\n",
    "    expected = (alphas[i] + c) / (c.sum() + alphas[i].sum())\n",
    "    print(expected)"
   ]
  },
  {
   "cell_type": "code",
   "execution_count": 10,
   "metadata": {},
   "outputs": [
    {
     "data": {
      "text/plain": [
       "array([[0.03626473, 0.02719855, 0.01813237],\n",
       "       [0.02810517, 0.01903898, 0.0099728 ],\n",
       "       [0.07252947, 0.06346328, 0.0543971 ],\n",
       "       [0.1631913 , 0.15412511, 0.14505893],\n",
       "       [0.20852221, 0.02719855, 0.19038985]])"
      ]
     },
     "execution_count": 10,
     "metadata": {},
     "output_type": "execute_result"
    }
   ],
   "source": [
    "expected = (alphas + c) / (c.sum() + alphas.sum())\n",
    "expected"
   ]
  },
  {
   "cell_type": "code",
   "execution_count": 11,
   "metadata": {},
   "outputs": [],
   "source": [
    "import pymc3 as pm\n",
    "import numpy as np\n",
    "\n",
    "alphas = np.array([1, 1, 1])\n",
    "c = np.array([3, 2, 1])"
   ]
  },
  {
   "cell_type": "code",
   "execution_count": 5,
   "metadata": {},
   "outputs": [
    {
     "name": "stderr",
     "output_type": "stream",
     "text": [
      "/Users/rsilvei/Envs/bayesian/lib/python3.6/site-packages/theano/tensor/basic.py:2184: UserWarning: theano.tensor.round() changed its default from `half_away_from_zero` to `half_to_even` to have the same default as NumPy. Use the Theano flag `warn.round=False` to disable this warning.\n",
      "  \"theano.tensor.round() changed its default from\"\n"
     ]
    }
   ],
   "source": [
    "with pm.Model() as model:\n",
    "    # Parameters of the Multinomial are from a Dirichlet\n",
    "    parameters = pm.Dirichlet('parameters', a=alphas, shape=3)\n",
    "    # Observed data is from a Multinomial distribution\n",
    "    observed_data = pm.Multinomial(\n",
    "        'observed_data', n=6, p=parameters, shape=3, observed=c)"
   ]
  },
  {
   "cell_type": "code",
   "execution_count": 6,
   "metadata": {},
   "outputs": [
    {
     "name": "stderr",
     "output_type": "stream",
     "text": [
      "Auto-assigning NUTS sampler...\n",
      "Initializing NUTS using jitter+adapt_diag...\n",
      "Multiprocess sampling (2 chains in 4 jobs)\n",
      "NUTS: [parameters_stickbreaking__]\n",
      "100%|██████████| 1500/1500 [00:04<00:00, 367.06it/s]\n"
     ]
    }
   ],
   "source": [
    "with model:\n",
    "    # Sample from the posterior\n",
    "    trace = pm.sample(draws=1000, chains=2, tune=500, \n",
    "                      discard_tuned_samples=True)"
   ]
  },
  {
   "cell_type": "code",
   "execution_count": 12,
   "metadata": {},
   "outputs": [
    {
     "data": {
      "text/html": [
       "<div>\n",
       "<style scoped>\n",
       "    .dataframe tbody tr th:only-of-type {\n",
       "        vertical-align: middle;\n",
       "    }\n",
       "\n",
       "    .dataframe tbody tr th {\n",
       "        vertical-align: top;\n",
       "    }\n",
       "\n",
       "    .dataframe thead th {\n",
       "        text-align: right;\n",
       "    }\n",
       "</style>\n",
       "<table border=\"1\" class=\"dataframe\">\n",
       "  <thead>\n",
       "    <tr style=\"text-align: right;\">\n",
       "      <th></th>\n",
       "      <th>mean</th>\n",
       "      <th>sd</th>\n",
       "      <th>mc_error</th>\n",
       "      <th>hpd_2.5</th>\n",
       "      <th>hpd_97.5</th>\n",
       "      <th>n_eff</th>\n",
       "      <th>Rhat</th>\n",
       "    </tr>\n",
       "  </thead>\n",
       "  <tbody>\n",
       "    <tr>\n",
       "      <th>lions</th>\n",
       "      <td>0.445770</td>\n",
       "      <td>0.151874</td>\n",
       "      <td>0.003828</td>\n",
       "      <td>0.171697</td>\n",
       "      <td>0.756508</td>\n",
       "      <td>1704.463340</td>\n",
       "      <td>0.999820</td>\n",
       "    </tr>\n",
       "    <tr>\n",
       "      <th>tigers</th>\n",
       "      <td>0.331939</td>\n",
       "      <td>0.143306</td>\n",
       "      <td>0.003194</td>\n",
       "      <td>0.077148</td>\n",
       "      <td>0.606064</td>\n",
       "      <td>2082.759651</td>\n",
       "      <td>0.999538</td>\n",
       "    </tr>\n",
       "    <tr>\n",
       "      <th>bears</th>\n",
       "      <td>0.222291</td>\n",
       "      <td>0.127752</td>\n",
       "      <td>0.002784</td>\n",
       "      <td>0.006546</td>\n",
       "      <td>0.461414</td>\n",
       "      <td>1926.774123</td>\n",
       "      <td>0.999705</td>\n",
       "    </tr>\n",
       "  </tbody>\n",
       "</table>\n",
       "</div>"
      ],
      "text/plain": [
       "            mean        sd  mc_error   hpd_2.5  hpd_97.5        n_eff  \\\n",
       "lions   0.445770  0.151874  0.003828  0.171697  0.756508  1704.463340   \n",
       "tigers  0.331939  0.143306  0.003194  0.077148  0.606064  2082.759651   \n",
       "bears   0.222291  0.127752  0.002784  0.006546  0.461414  1926.774123   \n",
       "\n",
       "            Rhat  \n",
       "lions   0.999820  \n",
       "tigers  0.999538  \n",
       "bears   0.999705  "
      ]
     },
     "execution_count": 12,
     "metadata": {},
     "output_type": "execute_result"
    }
   ],
   "source": [
    "summary = pm.summary(trace)\n",
    "summary.index = animals\n",
    "summary"
   ]
  },
  {
   "cell_type": "code",
   "execution_count": 13,
   "metadata": {},
   "outputs": [
    {
     "data": {
      "text/plain": [
       "array([[0.27036541, 0.56287248, 0.16676211],\n",
       "       [0.73047916, 0.15590326, 0.11361758],\n",
       "       [0.24982659, 0.19607675, 0.55409666],\n",
       "       ...,\n",
       "       [0.47544958, 0.25166829, 0.27288213],\n",
       "       [0.53170756, 0.22830788, 0.23998456],\n",
       "       [0.48684212, 0.30236509, 0.21079279]])"
      ]
     },
     "execution_count": 13,
     "metadata": {},
     "output_type": "execute_result"
    }
   ],
   "source": [
    "trace['parameters']"
   ]
  },
  {
   "cell_type": "code",
   "execution_count": 16,
   "metadata": {},
   "outputs": [
    {
     "data": {
      "text/html": [
       "<div>\n",
       "<style scoped>\n",
       "    .dataframe tbody tr th:only-of-type {\n",
       "        vertical-align: middle;\n",
       "    }\n",
       "\n",
       "    .dataframe tbody tr th {\n",
       "        vertical-align: top;\n",
       "    }\n",
       "\n",
       "    .dataframe thead th {\n",
       "        text-align: right;\n",
       "    }\n",
       "</style>\n",
       "<table border=\"1\" class=\"dataframe\">\n",
       "  <thead>\n",
       "    <tr style=\"text-align: right;\">\n",
       "      <th></th>\n",
       "      <th>lions</th>\n",
       "      <th>tigers</th>\n",
       "      <th>bears</th>\n",
       "    </tr>\n",
       "  </thead>\n",
       "  <tbody>\n",
       "    <tr>\n",
       "      <th>0</th>\n",
       "      <td>0.270365</td>\n",
       "      <td>0.562872</td>\n",
       "      <td>0.166762</td>\n",
       "    </tr>\n",
       "    <tr>\n",
       "      <th>1</th>\n",
       "      <td>0.730479</td>\n",
       "      <td>0.155903</td>\n",
       "      <td>0.113618</td>\n",
       "    </tr>\n",
       "    <tr>\n",
       "      <th>2</th>\n",
       "      <td>0.249827</td>\n",
       "      <td>0.196077</td>\n",
       "      <td>0.554097</td>\n",
       "    </tr>\n",
       "    <tr>\n",
       "      <th>3</th>\n",
       "      <td>0.511813</td>\n",
       "      <td>0.450338</td>\n",
       "      <td>0.037849</td>\n",
       "    </tr>\n",
       "    <tr>\n",
       "      <th>4</th>\n",
       "      <td>0.715747</td>\n",
       "      <td>0.231981</td>\n",
       "      <td>0.052272</td>\n",
       "    </tr>\n",
       "  </tbody>\n",
       "</table>\n",
       "</div>"
      ],
      "text/plain": [
       "      lions    tigers     bears\n",
       "0  0.270365  0.562872  0.166762\n",
       "1  0.730479  0.155903  0.113618\n",
       "2  0.249827  0.196077  0.554097\n",
       "3  0.511813  0.450338  0.037849\n",
       "4  0.715747  0.231981  0.052272"
      ]
     },
     "execution_count": 16,
     "metadata": {},
     "output_type": "execute_result"
    }
   ],
   "source": [
    "trace_df = pd.DataFrame(trace['parameters'], columns = animals)\n",
    "trace_df.head()"
   ]
  },
  {
   "cell_type": "code",
   "execution_count": 18,
   "metadata": {},
   "outputs": [
    {
     "data": {
      "text/plain": [
       "{'lions': 0.4457695619169259,\n",
       " 'tigers': 0.33193910991655157,\n",
       " 'bears': 0.22229132816652156}"
      ]
     },
     "execution_count": 18,
     "metadata": {},
     "output_type": "execute_result"
    }
   ],
   "source": [
    "# For probabilities use samples after burn in\n",
    "pvals = trace_df.iloc[:, :3].mean(axis = 0)\n",
    "dict(zip(animals, pvals))"
   ]
  },
  {
   "cell_type": "code",
   "execution_count": 20,
   "metadata": {},
   "outputs": [
    {
     "data": {
      "text/html": [
       "<div>\n",
       "<style scoped>\n",
       "    .dataframe tbody tr th:only-of-type {\n",
       "        vertical-align: middle;\n",
       "    }\n",
       "\n",
       "    .dataframe tbody tr th {\n",
       "        vertical-align: top;\n",
       "    }\n",
       "\n",
       "    .dataframe thead th {\n",
       "        text-align: right;\n",
       "    }\n",
       "</style>\n",
       "<table border=\"1\" class=\"dataframe\">\n",
       "  <thead>\n",
       "    <tr style=\"text-align: right;\">\n",
       "      <th></th>\n",
       "      <th>hpd_2.5</th>\n",
       "      <th>hpd_97.5</th>\n",
       "    </tr>\n",
       "  </thead>\n",
       "  <tbody>\n",
       "    <tr>\n",
       "      <th>lions</th>\n",
       "      <td>0.171697</td>\n",
       "      <td>0.756508</td>\n",
       "    </tr>\n",
       "    <tr>\n",
       "      <th>tigers</th>\n",
       "      <td>0.077148</td>\n",
       "      <td>0.606064</td>\n",
       "    </tr>\n",
       "    <tr>\n",
       "      <th>bears</th>\n",
       "      <td>0.006546</td>\n",
       "      <td>0.461414</td>\n",
       "    </tr>\n",
       "  </tbody>\n",
       "</table>\n",
       "</div>"
      ],
      "text/plain": [
       "         hpd_2.5  hpd_97.5\n",
       "lions   0.171697  0.756508\n",
       "tigers  0.077148  0.606064\n",
       "bears   0.006546  0.461414"
      ]
     },
     "execution_count": 20,
     "metadata": {},
     "output_type": "execute_result"
    }
   ],
   "source": [
    "## Uncertainty\n",
    "summary.iloc[:, 3:5]"
   ]
  },
  {
   "cell_type": "code",
   "execution_count": 21,
   "metadata": {},
   "outputs": [
    {
     "name": "stderr",
     "output_type": "stream",
     "text": [
      "logp = -1.8042, ||grad|| = 1.118: 100%|██████████| 7/7 [00:00<00:00, 789.25it/s]\n"
     ]
    }
   ],
   "source": [
    "## Maximum a Posterior (MAP)\n",
    "with model:\n",
    "    # Find the maximum a posteriori estimate\n",
    "    map_ = pm.find_MAP()"
   ]
  },
  {
   "cell_type": "code",
   "execution_count": 22,
   "metadata": {},
   "outputs": [
    {
     "data": {
      "text/plain": [
       "{'lions': 0.4999999599472017,\n",
       " 'tigers': 0.3333330102024172,\n",
       " 'bears': 0.16666702985038112}"
      ]
     },
     "execution_count": 22,
     "metadata": {},
     "output_type": "execute_result"
    }
   ],
   "source": [
    "dict(zip(animals, map_['parameters']))"
   ]
  },
  {
   "cell_type": "markdown",
   "metadata": {},
   "source": [
    "## Sources\n",
    "[Blob Post - Towards Data Science](https://towardsdatascience.com/estimating-probabilities-with-bayesian-modeling-in-python-7144be007815)  \n",
    "[Notebook - Towards Data Science](https://github.com/WillKoehrsen/probabilistic-programming/blob/master/Estimating%20Probabilities%20with%20Bayesian%20Inference.ipynb)"
   ]
  }
 ],
 "metadata": {
  "kernelspec": {
   "display_name": "Bayesian",
   "language": "python",
   "name": "bayesian"
  },
  "language_info": {
   "codemirror_mode": {
    "name": "ipython",
    "version": 3
   },
   "file_extension": ".py",
   "mimetype": "text/x-python",
   "name": "python",
   "nbconvert_exporter": "python",
   "pygments_lexer": "ipython3",
   "version": "3.6.5"
  }
 },
 "nbformat": 4,
 "nbformat_minor": 2
}
