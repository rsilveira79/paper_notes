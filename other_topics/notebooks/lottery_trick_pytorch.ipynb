{
 "cells": [
  {
   "cell_type": "code",
   "execution_count": 1,
   "metadata": {},
   "outputs": [],
   "source": [
    "%matplotlib inline\n",
    "\n",
    "import torch\n",
    "from torch.autograd import Variable\n",
    "import torch.nn as nn\n",
    "import torch.nn.functional as F\n",
    "import torch.optim as optim\n",
    "\n",
    "import torchvision\n",
    "from torchvision import datasets, transforms\n",
    "\n",
    "import matplotlib.pyplot as plt\n",
    "import numpy as np\n",
    "import seaborn as sns"
   ]
  },
  {
   "cell_type": "code",
   "execution_count": 2,
   "metadata": {},
   "outputs": [],
   "source": [
    "params = {\n",
    "    'batch_size':  16,\n",
    "    'num_workers': 2,\n",
    "    'device':   'cpu',\n",
    "    'num_epochs': 4,\n",
    "    'learning_rate': 0.0001,\n",
    "    'weight_decay': 5e-4,\n",
    "}\n",
    "transform = transforms.ToTensor()\n",
    "## Train\n",
    "trainset = torchvision.datasets.MNIST('../data', \n",
    "                                      train=True, \n",
    "                                      download=True, \n",
    "                                      transform=transform)\n",
    "trainloader = torch.utils.data.DataLoader(trainset, \n",
    "                                          batch_size=params['batch_size'], \n",
    "                                          shuffle=True, \n",
    "                                          num_workers=params['num_workers'])\n",
    "### Test \n",
    "testset = torchvision.datasets.MNIST('../data', \n",
    "                                     train=False, \n",
    "                                     download=True, \n",
    "                                     transform=transform)\n",
    "testloader = torch.utils.data.DataLoader(testset, \n",
    "                                         batch_size=params['batch_size'], \n",
    "                                         shuffle=False, \n",
    "                                         num_workers=params['num_workers'])"
   ]
  },
  {
   "cell_type": "code",
   "execution_count": 3,
   "metadata": {},
   "outputs": [
    {
     "data": {
      "text/plain": [
       "Dataset MNIST\n",
       "    Number of datapoints: 60000\n",
       "    Split: train\n",
       "    Root Location: ../data\n",
       "    Transforms (if any): ToTensor()\n",
       "    Target Transforms (if any): None"
      ]
     },
     "execution_count": 3,
     "metadata": {},
     "output_type": "execute_result"
    }
   ],
   "source": [
    "trainloader.dataset"
   ]
  },
  {
   "cell_type": "code",
   "execution_count": 4,
   "metadata": {},
   "outputs": [
    {
     "data": {
      "text/plain": [
       "Dataset MNIST\n",
       "    Number of datapoints: 10000\n",
       "    Split: test\n",
       "    Root Location: ../data\n",
       "    Transforms (if any): ToTensor()\n",
       "    Target Transforms (if any): None"
      ]
     },
     "execution_count": 4,
     "metadata": {},
     "output_type": "execute_result"
    }
   ],
   "source": [
    "testloader.dataset"
   ]
  },
  {
   "cell_type": "code",
   "execution_count": 5,
   "metadata": {},
   "outputs": [],
   "source": [
    "def show_batch(batch):\n",
    "    im = torchvision.utils.make_grid(batch)\n",
    "    plt.imshow(np.transpose(im.numpy(), (1, 2, 0)))"
   ]
  },
  {
   "cell_type": "code",
   "execution_count": 6,
   "metadata": {},
   "outputs": [
    {
     "name": "stdout",
     "output_type": "stream",
     "text": [
      "tensor([0, 6, 4, 9, 8, 2, 7, 0, 3, 2, 9, 0, 5, 3, 7, 6])\n"
     ]
    },
    {
     "data": {
      "image/png": "[encoded data removed]",
      "text/plain": [
       "<Figure size 432x288 with 1 Axes>"
      ]
     },
     "metadata": {},
     "output_type": "display_data"
    }
   ],
   "source": [
    "dataiter = iter(trainloader)\n",
    "images, labels = dataiter.next()\n",
    "print(labels)\n",
    "show_batch(images)"
   ]
  },
  {
   "cell_type": "code",
   "execution_count": 7,
   "metadata": {},
   "outputs": [],
   "source": [
    "## Simple MLP\n",
    "class MLP(nn.Module):\n",
    "    def __init__(self, input_size, hidden_size, num_labels):\n",
    "        super(MLP, self).__init__()\n",
    "        self.linear1 = nn.Linear(input_size, hidden_size)\n",
    "        self.linear2 = nn.Linear(hidden_size, num_labels)\n",
    "\n",
    "    def forward(self, x):\n",
    "        h_relu = F.relu(self.linear1(x.view(params['batch_size'], -1)))\n",
    "        y_pred = self.linear2(h_relu)\n",
    "        return y_pred"
   ]
  },
  {
   "cell_type": "code",
   "execution_count": 8,
   "metadata": {},
   "outputs": [
    {
     "data": {
      "text/plain": [
       "MLP(\n",
       "  (linear1): Linear(in_features=784, out_features=32, bias=True)\n",
       "  (linear2): Linear(in_features=32, out_features=10, bias=True)\n",
       ")"
      ]
     },
     "execution_count": 8,
     "metadata": {},
     "output_type": "execute_result"
    }
   ],
   "source": [
    "NUM_LABELS = len(list(set(trainloader.dataset.train_labels.numpy())))\n",
    "INPUT_SIZE = trainloader.dataset.train_data[0].flatten().shape[0]\n",
    "HIDDEN_SIZE = 32\n",
    "model = MLP(INPUT_SIZE, HIDDEN_SIZE, NUM_LABELS)\n",
    "model"
   ]
  },
  {
   "cell_type": "code",
   "execution_count": 9,
   "metadata": {},
   "outputs": [],
   "source": [
    "def train(model, trainloader, criterion, optimizer, n_epochs=10):\n",
    "    for t in range(n_epochs):\n",
    "        for i, data in enumerate(trainloader):\n",
    "            inputs, labels = data\n",
    "            optimizer.zero_grad()\n",
    "            outputs = model(inputs)\n",
    "            loss = criterion(outputs, labels) \n",
    "            loss.backward() \n",
    "            optimizer.step()\n",
    "\n",
    "            if not i % 2000:\n",
    "                print(\"    --> EPOCH {}, ITER {}, LOSS {}\".format(t, i, loss.data.numpy()))"
   ]
  },
  {
   "cell_type": "code",
   "execution_count": 10,
   "metadata": {},
   "outputs": [
    {
     "name": "stdout",
     "output_type": "stream",
     "text": [
      "    --> EPOCH 0, ITER 0, LOSS 2.2837724685668945\n",
      "    --> EPOCH 0, ITER 2000, LOSS 0.5739529132843018\n",
      "    --> EPOCH 1, ITER 0, LOSS 0.4267904460430145\n",
      "    --> EPOCH 1, ITER 2000, LOSS 0.48345184326171875\n",
      "    --> EPOCH 2, ITER 0, LOSS 0.26357388496398926\n",
      "    --> EPOCH 2, ITER 2000, LOSS 0.40364062786102295\n",
      "    --> EPOCH 3, ITER 0, LOSS 0.38277366757392883\n",
      "    --> EPOCH 3, ITER 2000, LOSS 0.07333604991436005\n"
     ]
    }
   ],
   "source": [
    "criterion = nn.CrossEntropyLoss()\n",
    "optimizer = optim.Adam(model.parameters(), lr=params['learning_rate'])\n",
    "train(model, trainloader, criterion, optimizer, n_epochs = params['num_epochs'])"
   ]
  },
  {
   "cell_type": "code",
   "execution_count": 11,
   "metadata": {},
   "outputs": [],
   "source": [
    "def predict(model, images):\n",
    "    outputs = model(images)\n",
    "    _, predicted = torch.max(outputs.data, 1)\n",
    "    return predicted"
   ]
  },
  {
   "cell_type": "code",
   "execution_count": 12,
   "metadata": {},
   "outputs": [
    {
     "name": "stdout",
     "output_type": "stream",
     "text": [
      "LABELS: [7 2 1 0 4 1 4 9 5 9 0 6 9 0 1 5]\n",
      "PREDICTION:  [7 2 1 0 4 1 4 9 6 9 0 6 9 0 1 5]\n"
     ]
    },
    {
     "data": {
      "image/png": "[encoded data removed]",
      "text/plain": [
       "<Figure size 432x288 with 1 Axes>"
      ]
     },
     "metadata": {},
     "output_type": "display_data"
    }
   ],
   "source": [
    "dataiter = iter(testloader)\n",
    "images, labels = dataiter.next()\n",
    "print(\"LABELS: {}\".format(labels.numpy()))\n",
    "print('PREDICTION: ', predict(model, images).numpy())\n",
    "show_batch(images)"
   ]
  },
  {
   "cell_type": "code",
   "execution_count": 13,
   "metadata": {},
   "outputs": [],
   "source": [
    "def test(model, testloader):\n",
    "    correct = 0\n",
    "    for data in testloader:\n",
    "        inputs, labels = data\n",
    "        pred = predict(model, inputs)\n",
    "        correct += (pred == labels).sum()\n",
    "    return 100 * correct / len(testset)"
   ]
  },
  {
   "cell_type": "code",
   "execution_count": 14,
   "metadata": {},
   "outputs": [
    {
     "name": "stdout",
     "output_type": "stream",
     "text": [
      "ACCURACY: 92%\n"
     ]
    }
   ],
   "source": [
    "print('ACCURACY: {}%'.format(test(model, testloader).numpy()))"
   ]
  },
  {
   "cell_type": "markdown",
   "metadata": {},
   "source": [
    "## Using Weight Pruning"
   ]
  },
  {
   "cell_type": "code",
   "execution_count": 15,
   "metadata": {},
   "outputs": [],
   "source": [
    "params = {\n",
    "    'pruning_perc': 85.,\n",
    "    'batch_size': 16, \n",
    "    'test_batch_size': 100,\n",
    "    'num_epochs': 4,\n",
    "    'learning_rate': 0.001,\n",
    "    'weight_decay': 5e-4,\n",
    "}"
   ]
  },
  {
   "cell_type": "code",
   "execution_count": 16,
   "metadata": {},
   "outputs": [],
   "source": [
    "class MaskedLinear(nn.Linear):\n",
    "    def __init__(self, in_features, out_features, bias=True):\n",
    "        super(MaskedLinear, self).__init__(in_features, out_features, bias)\n",
    "        self.mask_flag = False\n",
    "    \n",
    "    def set_mask(self, mask):\n",
    "        self.register_buffer('mask', mask)\n",
    "        mask_var = self.get_mask()\n",
    "        self.weight.data = self.weight.data*mask_var.data\n",
    "        self.mask_flag = True\n",
    "    \n",
    "    def get_mask(self):\n",
    "        return self.mask.clone().detach().requires_grad_(False)\n",
    "    \n",
    "    def set_sign(self, mask):\n",
    "        self.register_buffer('mask', mask)\n",
    "        mask_var = self.get_mask()\n",
    "        self.weight.data = self.weight.data*mask_var.data\n",
    "        self.mask_flag = True\n",
    "    \n",
    "    def forward(self, x):\n",
    "        if self.mask_flag == True:\n",
    "            mask_var = self.get_mask()\n",
    "            weight = self.weight * mask_var\n",
    "            return F.linear(x, weight, self.bias)\n",
    "        else:\n",
    "            return F.linear(x, self.weight, self.bias)"
   ]
  },
  {
   "cell_type": "code",
   "execution_count": 17,
   "metadata": {},
   "outputs": [],
   "source": [
    "## Simple MLP\n",
    "class MLP_weight_prunning(nn.Module):\n",
    "    def __init__(self, input_size, hidden_size, num_labels):\n",
    "        super(MLP_weight_prunning, self).__init__()\n",
    "        self.linear1 = MaskedLinear(input_size, hidden_size)\n",
    "        self.linear2 = MaskedLinear(hidden_size, num_labels)\n",
    "\n",
    "    def forward(self, x):\n",
    "        h_relu = F.relu(self.linear1(x.view(params['batch_size'], -1)))\n",
    "        y_pred = self.linear2(h_relu)\n",
    "        return y_pred\n",
    "    \n",
    "    def set_masks(self, masks):\n",
    "        self.linear1.set_mask(masks[0])\n",
    "        self.linear2.set_mask(masks[1])\n",
    "\n",
    "    def set_signs(self, signs):\n",
    "        sign_1 = torch.FloatTensor(signs[0]).view(self.linear1.weight.data.shape[0],-1)\n",
    "        sign_2 = torch.FloatTensor(signs[1]).view(self.linear2.weight.data.shape[0],-1)\n",
    "        self.linear1.weight.data = torch.mul(self.linear1.weight.data.abs(),sign_1)\n",
    "        self.linear2.weight.data = torch.mul(self.linear2.weight.data.abs(),sign_2)"
   ]
  },
  {
   "cell_type": "code",
   "execution_count": 18,
   "metadata": {},
   "outputs": [
    {
     "name": "stdout",
     "output_type": "stream",
     "text": [
      "ACCURACY: 9%\n"
     ]
    },
    {
     "data": {
      "text/plain": [
       "MLP_weight_prunning(\n",
       "  (linear1): MaskedLinear(in_features=784, out_features=32, bias=True)\n",
       "  (linear2): MaskedLinear(in_features=32, out_features=10, bias=True)\n",
       ")"
      ]
     },
     "execution_count": 18,
     "metadata": {},
     "output_type": "execute_result"
    }
   ],
   "source": [
    "NUM_LABELS = len(list(set(trainloader.dataset.train_labels.numpy())))\n",
    "INPUT_SIZE = trainloader.dataset.train_data[0].flatten().shape[0]\n",
    "HIDDEN_SIZE = 32\n",
    "\n",
    "model_2 = MLP_weight_prunning(INPUT_SIZE, HIDDEN_SIZE, NUM_LABELS)\n",
    "print('ACCURACY: {}%'.format(test(model_2, testloader).numpy()))\n",
    "model_2"
   ]
  },
  {
   "cell_type": "code",
   "execution_count": 19,
   "metadata": {},
   "outputs": [],
   "source": [
    "def weight_prune(model, pruning_perc):\n",
    "\n",
    "    all_weights = []\n",
    "    for p in model.parameters():\n",
    "        if len(p.data.size()) != 1:\n",
    "        ## Skip bias layers\n",
    "            all_weights += list(p.cpu().data.abs().numpy().flatten())\n",
    "    threshold = np.percentile(np.array(all_weights), pruning_perc)\n",
    "    print(\"Threshold value: {}\".format(threshold))\n",
    "    # generate mask\n",
    "    masks = []\n",
    "    for p in model.parameters():\n",
    "        if len(p.data.size()) != 1:\n",
    "            pruned_inds = p.data.abs() > threshold\n",
    "            \n",
    "            masks.append(pruned_inds.float())\n",
    "    return masks"
   ]
  },
  {
   "cell_type": "code",
   "execution_count": 20,
   "metadata": {},
   "outputs": [],
   "source": [
    "def weight_prune_sign(model, pruning_perc):\n",
    "  \n",
    "    all_weights = []\n",
    "    for p in model.parameters():\n",
    "        if len(p.data.size()) != 1:\n",
    "            all_weights += list(p.cpu().data.abs().numpy().flatten())\n",
    "    threshold = np.percentile(np.array(all_weights), pruning_perc)\n",
    "    print(\"Threshold: {}\".format(threshold))\n",
    "    masks = []\n",
    "    signs = []\n",
    "    for p in model.parameters():\n",
    "        if len(p.data.size()) != 1:\n",
    "            pruned_inds = p.data.abs() > threshold\n",
    "            signs_inds = np.sign(p.data)\n",
    "            masks.append(pruned_inds.float())\n",
    "            signs.append(signs_inds)\n",
    "    return masks, signs"
   ]
  },
  {
   "cell_type": "code",
   "execution_count": null,
   "metadata": {},
   "outputs": [],
   "source": [
    "model_2.linear1.weight.data[0:10,:1]"
   ]
  },
  {
   "cell_type": "code",
   "execution_count": null,
   "metadata": {},
   "outputs": [],
   "source": [
    "w_mask, s_mask = weight_prune_sign(model_2,70)"
   ]
  },
  {
   "cell_type": "code",
   "execution_count": null,
   "metadata": {},
   "outputs": [],
   "source": [
    "w_mask[0][0:10,:1]"
   ]
  },
  {
   "cell_type": "code",
   "execution_count": null,
   "metadata": {},
   "outputs": [],
   "source": [
    "s_mask[0][0:10,:1]"
   ]
  },
  {
   "cell_type": "code",
   "execution_count": null,
   "metadata": {},
   "outputs": [],
   "source": [
    "def weight_prune_sign_2(model, pruning_perc): \n",
    "    masks = []\n",
    "    signs = []\n",
    "    for p in model.parameters():\n",
    "        mask = []\n",
    "        if len(p.data.size()) != 1:\n",
    "            weights = list(p.cpu().data.abs().numpy().flatten())\n",
    "            threshold = np.percentile(np.array(weights), pruning_perc)\n",
    "            print(\"Threshold: {}\".format(threshold))\n",
    "            pruned_inds = p.data.abs() > threshold\n",
    "            signs_inds = np.sign(p.data)\n",
    "            masks.append(pruned_inds.float())\n",
    "            signs.append(signs_inds)\n",
    "    return masks, signs"
   ]
  },
  {
   "cell_type": "code",
   "execution_count": null,
   "metadata": {},
   "outputs": [],
   "source": [
    "w_mask, s_mask = weight_prune_sign_2(model_2,70)"
   ]
  },
  {
   "cell_type": "code",
   "execution_count": null,
   "metadata": {},
   "outputs": [],
   "source": [
    "model_2.linear2.weight.data[0:10,:1]"
   ]
  },
  {
   "cell_type": "code",
   "execution_count": null,
   "metadata": {},
   "outputs": [],
   "source": [
    "w_mask[1][0:10,:1]"
   ]
  },
  {
   "cell_type": "code",
   "execution_count": null,
   "metadata": {},
   "outputs": [],
   "source": [
    "s_mask[1][0:10,:1]"
   ]
  },
  {
   "cell_type": "code",
   "execution_count": 21,
   "metadata": {},
   "outputs": [],
   "source": [
    "def get_weights(model):\n",
    "    all_weights = []\n",
    "    for p in model.parameters():\n",
    "        if len(p.data.size()) != 1:\n",
    "            weights = list(p.cpu().data.numpy().flatten())\n",
    "            #weights_sign = [1 if x>0 else -1 for x in weights]\n",
    "            all_weights.append(weights)\n",
    "            #all_weights_sign.append(weights_sign)\n",
    "    return all_weights"
   ]
  },
  {
   "cell_type": "code",
   "execution_count": 22,
   "metadata": {},
   "outputs": [],
   "source": [
    "def count_zeros_percentage(vec):\n",
    "    return np.count_nonzero(vec.flatten()==0)/vec.flatten().shape[0]\n",
    "def count_zeros_percentage_list(vec):\n",
    "    return np.count_nonzero(np.array(vec)==0.0)/len(vec)"
   ]
  },
  {
   "cell_type": "code",
   "execution_count": 23,
   "metadata": {},
   "outputs": [],
   "source": [
    "def prune_model(model, pruning_perc):\n",
    "    weight_mask, sign_mask = weight_prune_sign(model, pruning_perc)\n",
    "    model.set_masks(weight_mask)\n",
    "    return model, weight_mask, sign_mask"
   ]
  },
  {
   "cell_type": "code",
   "execution_count": 25,
   "metadata": {},
   "outputs": [],
   "source": [
    "def prune_model_ensemble(model, pruning_perc):\n",
    "    weight_mask, sign_mask = weight_prune_sign(model, pruning_perc)\n",
    "    model.set_masks(weight_mask)\n",
    "    return model"
   ]
  },
  {
   "cell_type": "markdown",
   "metadata": {},
   "source": [
    "## Plot Weights"
   ]
  },
  {
   "cell_type": "code",
   "execution_count": 31,
   "metadata": {},
   "outputs": [
    {
     "name": "stdout",
     "output_type": "stream",
     "text": [
      "ACCURACY: 5%\n"
     ]
    }
   ],
   "source": [
    "model_plot = MLP_weight_prunning(INPUT_SIZE, HIDDEN_SIZE, NUM_LABELS)\n",
    "weights_original  = get_weights(model_plot)\n",
    "print('ACCURACY: {}%'.format(test(model_plot, testloader).numpy()))"
   ]
  },
  {
   "cell_type": "code",
   "execution_count": 32,
   "metadata": {},
   "outputs": [
    {
     "data": {
      "text/plain": [
       "<matplotlib.axes._subplots.AxesSubplot at 0x11ab28978>"
      ]
     },
     "execution_count": 32,
     "metadata": {},
     "output_type": "execute_result"
    },
    {
     "data": {
      "image/png": "[encoded data removed]",
      "text/plain": [
       "<Figure size 432x288 with 1 Axes>"
      ]
     },
     "metadata": {},
     "output_type": "display_data"
    }
   ],
   "source": [
    "weights_pruned_untrained  = get_weights(model_plot)\n",
    "sns.scatterplot(weights_original[0]+weights_original[1], weights_pruned_untrained[0] + weights_pruned_untrained[1] )"
   ]
  },
  {
   "cell_type": "code",
   "execution_count": 39,
   "metadata": {},
   "outputs": [
    {
     "name": "stdout",
     "output_type": "stream",
     "text": [
      "    --> EPOCH 0, ITER 0, LOSS 1.5810534954071045\n",
      "    --> EPOCH 0, ITER 2000, LOSS 0.4357767105102539\n",
      "    --> EPOCH 1, ITER 0, LOSS 0.18462377786636353\n",
      "    --> EPOCH 1, ITER 2000, LOSS 0.01850070431828499\n",
      "    --> EPOCH 2, ITER 0, LOSS 0.14097008109092712\n",
      "    --> EPOCH 2, ITER 2000, LOSS 0.12749584019184113\n",
      "    --> EPOCH 3, ITER 0, LOSS 0.4036239683628082\n",
      "    --> EPOCH 3, ITER 2000, LOSS 0.14063143730163574\n"
     ]
    }
   ],
   "source": [
    "## prune before training\n",
    "criterion = nn.CrossEntropyLoss()\n",
    "optimizer = optim.Adam(model_plot.parameters(), lr=params['learning_rate'])\n",
    "train(model_plot, trainloader, criterion, optimizer, n_epochs = params['num_epochs'])"
   ]
  },
  {
   "cell_type": "code",
   "execution_count": 40,
   "metadata": {},
   "outputs": [
    {
     "name": "stdout",
     "output_type": "stream",
     "text": [
      "ACCURACY: 94%\n"
     ]
    }
   ],
   "source": [
    "print('ACCURACY: {}%'.format(test(model_plot, testloader).numpy()))"
   ]
  },
  {
   "cell_type": "code",
   "execution_count": 49,
   "metadata": {},
   "outputs": [
    {
     "name": "stdout",
     "output_type": "stream",
     "text": [
      "Threshold: 0.0\n",
      "ACCURACY: 94%\n"
     ]
    },
    {
     "data": {
      "text/plain": [
       "<matplotlib.axes._subplots.AxesSubplot at 0x11e498ac8>"
      ]
     },
     "execution_count": 49,
     "metadata": {},
     "output_type": "execute_result"
    },
    {
     "data": {
      "image/png": "[encoded data removed]",
      "text/plain": [
       "<Figure size 432x288 with 1 Axes>"
      ]
     },
     "metadata": {},
     "output_type": "display_data"
    }
   ],
   "source": [
    "## Prune the model and train\n",
    "weights_original  = get_weights(model_plot)\n",
    "model_pruned, mask_weights_pruned, mask_sign_pruned = prune_model(model_plot, 60)\n",
    "weights_pruned_trained = get_weights(model_pruned)\n",
    "print('ACCURACY: {}%'.format(test(model_pruned, testloader).numpy()))\n",
    "sns.scatterplot(weights_original[0]+weights_original[1], weights_pruned_trained[0] + weights_pruned_trained[1] )"
   ]
  },
  {
   "cell_type": "code",
   "execution_count": 54,
   "metadata": {},
   "outputs": [
    {
     "name": "stdout",
     "output_type": "stream",
     "text": [
      "ACCURACY: 6%\n"
     ]
    }
   ],
   "source": [
    "## Apply Masks on New Model\n",
    "new_model = MLP_weight_prunning(INPUT_SIZE, HIDDEN_SIZE, NUM_LABELS)\n",
    "weights_dist_init = [item for sublist in get_weights(new_model) for item in sublist]\n",
    "print('ACCURACY: {}%'.format(test(new_model, testloader).numpy()))"
   ]
  },
  {
   "cell_type": "code",
   "execution_count": 55,
   "metadata": {},
   "outputs": [
    {
     "name": "stdout",
     "output_type": "stream",
     "text": [
      "ACCURACY: 21%\n"
     ]
    }
   ],
   "source": [
    "## Apply Weight and Sign Mask\n",
    "new_model.set_masks(mask_weights_pruned)\n",
    "new_model.set_signs(mask_sign_pruned)\n",
    "weights_dist_supermask = [item for sublist in get_weights(new_model) for item in sublist]\n",
    "print('ACCURACY: {}%'.format(test(new_model, testloader).numpy()))"
   ]
  },
  {
   "cell_type": "code",
   "execution_count": null,
   "metadata": {},
   "outputs": [],
   "source": [
    "sns.set(color_codes=True)\n",
    "sns.distplot(weights_dist_init)\n",
    "sns.distplot(weights_dist_supermask)"
   ]
  },
  {
   "cell_type": "code",
   "execution_count": null,
   "metadata": {},
   "outputs": [],
   "source": [
    "masks = { \"layer_1\":{},\n",
    "          \"layer_2\":{}\n",
    "}"
   ]
  },
  {
   "cell_type": "code",
   "execution_count": null,
   "metadata": {},
   "outputs": [],
   "source": []
  },
  {
   "cell_type": "code",
   "execution_count": null,
   "metadata": {},
   "outputs": [],
   "source": [
    "[n._get_name() for n in model.modules()]"
   ]
  },
  {
   "cell_type": "code",
   "execution_count": null,
   "metadata": {},
   "outputs": [],
   "source": [
    "for n in model.modules():\n",
    "    print(n)"
   ]
  },
  {
   "cell_type": "code",
   "execution_count": null,
   "metadata": {},
   "outputs": [],
   "source": [
    "dir(model)"
   ]
  },
  {
   "cell_type": "code",
   "execution_count": null,
   "metadata": {},
   "outputs": [],
   "source": [
    "[param. for param in model.parameters()]"
   ]
  },
  {
   "cell_type": "markdown",
   "metadata": {},
   "source": [
    "### Train w/ Several Prune Rates"
   ]
  },
  {
   "cell_type": "code",
   "execution_count": 26,
   "metadata": {},
   "outputs": [
    {
     "name": "stdout",
     "output_type": "stream",
     "text": [
      "Threshold: 0.0036455731838941586\n",
      "Threshold: 0.007276133820414544\n",
      "Threshold: 0.010896454192698\n",
      "Threshold: 0.01791122369468212\n",
      "Threshold: 0.02532770968973636\n",
      "Threshold: 0.032454665005207065\n",
      "Threshold: 0.03288336589932442\n",
      "Threshold: 0.03321259826421738\n",
      "Threshold: 0.03342277728021145\n",
      "Threshold: 0.03392904072999954\n",
      "Threshold: 0.034261000528931614\n",
      "Threshold: 0.03470174685120583\n",
      "Threshold: 0.03497098885476589\n",
      "Threshold: 0.03531589299440384\n",
      "Threshold: 0.03571272179484368\n"
     ]
    }
   ],
   "source": [
    "percentile_prune = [10, 20, 30, 50, 70, 90, 91, 92, 93, 94, 95, 96, 97, 98, 99]\n",
    "models_pruned = [prune_model_ensemble(MLP_weight_prunning(INPUT_SIZE, HIDDEN_SIZE, NUM_LABELS), i) for i in percentile_prune]\n",
    "optimizer = [optim.Adam(models_pruned[i].parameters(),lr=params['learning_rate']) for i in range(len(percentile_prune))]\n",
    "losses = [nn.CrossEntropyLoss() for i in range(len(percentile_prune))]"
   ]
  },
  {
   "cell_type": "code",
   "execution_count": 27,
   "metadata": {},
   "outputs": [
    {
     "name": "stdout",
     "output_type": "stream",
     "text": [
      "Traning Prune 10 %\n",
      "    --> EPOCH 0, ITER 0, LOSS 2.3583595752716064\n",
      "    --> EPOCH 0, ITER 2000, LOSS 0.22835864126682281\n",
      "    --> EPOCH 1, ITER 0, LOSS 0.1843191236257553\n",
      "    --> EPOCH 1, ITER 2000, LOSS 0.0967806726694107\n",
      "    --> EPOCH 2, ITER 0, LOSS 0.01976713538169861\n",
      "    --> EPOCH 2, ITER 2000, LOSS 0.12493914365768433\n",
      "    --> EPOCH 3, ITER 0, LOSS 0.3092547059059143\n",
      "    --> EPOCH 3, ITER 2000, LOSS 0.3676519989967346\n",
      "    --> TEST ACCURACY: 96%\n",
      "--------------------------------------------------\n",
      "Traning Prune 20 %\n",
      "    --> EPOCH 0, ITER 0, LOSS 2.3413374423980713\n",
      "    --> EPOCH 0, ITER 2000, LOSS 1.0074613094329834\n",
      "    --> EPOCH 1, ITER 0, LOSS 0.7313679456710815\n",
      "    --> EPOCH 1, ITER 2000, LOSS 0.16519784927368164\n",
      "    --> EPOCH 2, ITER 0, LOSS 0.13657540082931519\n",
      "    --> EPOCH 2, ITER 2000, LOSS 0.09455247223377228\n",
      "    --> EPOCH 3, ITER 0, LOSS 0.05921511352062225\n",
      "    --> EPOCH 3, ITER 2000, LOSS 0.13217812776565552\n",
      "    --> TEST ACCURACY: 94%\n",
      "--------------------------------------------------\n",
      "Traning Prune 30 %\n",
      "    --> EPOCH 0, ITER 0, LOSS 2.3148887157440186\n",
      "    --> EPOCH 0, ITER 2000, LOSS 0.1610221564769745\n",
      "    --> EPOCH 1, ITER 0, LOSS 0.2167235165834427\n",
      "    --> EPOCH 1, ITER 2000, LOSS 0.27621859312057495\n",
      "    --> EPOCH 2, ITER 0, LOSS 0.11617176234722137\n",
      "    --> EPOCH 2, ITER 2000, LOSS 0.06542892754077911\n",
      "    --> EPOCH 3, ITER 0, LOSS 0.5514770746231079\n",
      "    --> EPOCH 3, ITER 2000, LOSS 0.21446648240089417\n",
      "    --> TEST ACCURACY: 95%\n",
      "--------------------------------------------------\n",
      "Traning Prune 50 %\n",
      "    --> EPOCH 0, ITER 0, LOSS 2.3300375938415527\n",
      "    --> EPOCH 0, ITER 2000, LOSS 0.25484126806259155\n",
      "    --> EPOCH 1, ITER 0, LOSS 0.035308897495269775\n",
      "    --> EPOCH 1, ITER 2000, LOSS 0.04647292196750641\n",
      "    --> EPOCH 2, ITER 0, LOSS 0.20583151280879974\n",
      "    --> EPOCH 2, ITER 2000, LOSS 0.14246444404125214\n",
      "    --> EPOCH 3, ITER 0, LOSS 0.11564117670059204\n",
      "    --> EPOCH 3, ITER 2000, LOSS 0.6026105284690857\n",
      "    --> TEST ACCURACY: 95%\n",
      "--------------------------------------------------\n",
      "Traning Prune 70 %\n",
      "    --> EPOCH 0, ITER 0, LOSS 2.311793565750122\n",
      "    --> EPOCH 0, ITER 2000, LOSS 0.3041110038757324\n",
      "    --> EPOCH 1, ITER 0, LOSS 0.2363632470369339\n",
      "    --> EPOCH 1, ITER 2000, LOSS 0.8711124658584595\n",
      "    --> EPOCH 2, ITER 0, LOSS 0.03886319696903229\n",
      "    --> EPOCH 2, ITER 2000, LOSS 0.2331400364637375\n",
      "    --> EPOCH 3, ITER 0, LOSS 0.059877440333366394\n",
      "    --> EPOCH 3, ITER 2000, LOSS 0.10034243762493134\n",
      "    --> TEST ACCURACY: 94%\n",
      "--------------------------------------------------\n",
      "Traning Prune 90 %\n",
      "    --> EPOCH 0, ITER 0, LOSS 2.304187059402466\n",
      "    --> EPOCH 0, ITER 2000, LOSS 0.38769906759262085\n",
      "    --> EPOCH 1, ITER 0, LOSS 0.28623273968696594\n",
      "    --> EPOCH 1, ITER 2000, LOSS 0.3924255669116974\n",
      "    --> EPOCH 2, ITER 0, LOSS 0.1785719394683838\n",
      "    --> EPOCH 2, ITER 2000, LOSS 0.058646686375141144\n",
      "    --> EPOCH 3, ITER 0, LOSS 0.06613409519195557\n",
      "    --> EPOCH 3, ITER 2000, LOSS 0.09826157242059708\n",
      "    --> TEST ACCURACY: 92%\n",
      "--------------------------------------------------\n",
      "Traning Prune 91 %\n",
      "    --> EPOCH 0, ITER 0, LOSS 2.3023250102996826\n",
      "    --> EPOCH 0, ITER 2000, LOSS 0.5937778353691101\n",
      "    --> EPOCH 1, ITER 0, LOSS 0.8945668339729309\n",
      "    --> EPOCH 1, ITER 2000, LOSS 0.1793113350868225\n",
      "    --> EPOCH 2, ITER 0, LOSS 0.12412094324827194\n",
      "    --> EPOCH 2, ITER 2000, LOSS 0.20012715458869934\n",
      "    --> EPOCH 3, ITER 0, LOSS 0.13051936030387878\n",
      "    --> EPOCH 3, ITER 2000, LOSS 0.9968935251235962\n",
      "    --> TEST ACCURACY: 91%\n",
      "--------------------------------------------------\n",
      "Traning Prune 92 %\n",
      "    --> EPOCH 0, ITER 0, LOSS 2.3171963691711426\n",
      "    --> EPOCH 0, ITER 2000, LOSS 0.4090653955936432\n",
      "    --> EPOCH 1, ITER 0, LOSS 0.5425497889518738\n",
      "    --> EPOCH 1, ITER 2000, LOSS 0.2939472198486328\n",
      "    --> EPOCH 2, ITER 0, LOSS 0.5557240843772888\n",
      "    --> EPOCH 2, ITER 2000, LOSS 0.37400010228157043\n",
      "    --> EPOCH 3, ITER 0, LOSS 0.0867232233285904\n",
      "    --> EPOCH 3, ITER 2000, LOSS 0.1866522580385208\n",
      "    --> TEST ACCURACY: 91%\n",
      "--------------------------------------------------\n",
      "Traning Prune 93 %\n",
      "    --> EPOCH 0, ITER 0, LOSS 2.306868076324463\n",
      "    --> EPOCH 0, ITER 2000, LOSS 0.5082495212554932\n",
      "    --> EPOCH 1, ITER 0, LOSS 0.3063993752002716\n",
      "    --> EPOCH 1, ITER 2000, LOSS 0.21933752298355103\n",
      "    --> EPOCH 2, ITER 0, LOSS 0.29839950799942017\n",
      "    --> EPOCH 2, ITER 2000, LOSS 0.07691601663827896\n",
      "    --> EPOCH 3, ITER 0, LOSS 0.43899139761924744\n",
      "    --> EPOCH 3, ITER 2000, LOSS 0.049579571932554245\n",
      "    --> TEST ACCURACY: 91%\n",
      "--------------------------------------------------\n",
      "Traning Prune 94 %\n",
      "    --> EPOCH 0, ITER 0, LOSS 2.29792857170105\n",
      "    --> EPOCH 0, ITER 2000, LOSS 0.16159196197986603\n",
      "    --> EPOCH 1, ITER 0, LOSS 0.41530102491378784\n",
      "    --> EPOCH 1, ITER 2000, LOSS 0.3501826524734497\n",
      "    --> EPOCH 2, ITER 0, LOSS 0.3135388493537903\n",
      "    --> EPOCH 2, ITER 2000, LOSS 0.1686314195394516\n",
      "    --> EPOCH 3, ITER 0, LOSS 0.20277157425880432\n",
      "    --> EPOCH 3, ITER 2000, LOSS 0.16234451532363892\n",
      "    --> TEST ACCURACY: 90%\n",
      "--------------------------------------------------\n",
      "Traning Prune 95 %\n",
      "    --> EPOCH 0, ITER 0, LOSS 2.282571792602539\n",
      "    --> EPOCH 0, ITER 2000, LOSS 0.8178776502609253\n",
      "    --> EPOCH 1, ITER 0, LOSS 0.29413336515426636\n",
      "    --> EPOCH 1, ITER 2000, LOSS 0.48704928159713745\n",
      "    --> EPOCH 2, ITER 0, LOSS 0.32084500789642334\n",
      "    --> EPOCH 2, ITER 2000, LOSS 0.44361740350723267\n",
      "    --> EPOCH 3, ITER 0, LOSS 0.3116363286972046\n",
      "    --> EPOCH 3, ITER 2000, LOSS 0.1812325268983841\n",
      "    --> TEST ACCURACY: 88%\n",
      "--------------------------------------------------\n",
      "Traning Prune 96 %\n",
      "    --> EPOCH 0, ITER 0, LOSS 2.3111655712127686\n",
      "    --> EPOCH 0, ITER 2000, LOSS 0.8717103600502014\n",
      "    --> EPOCH 1, ITER 0, LOSS 0.300576388835907\n",
      "    --> EPOCH 1, ITER 2000, LOSS 0.4965071678161621\n",
      "    --> EPOCH 2, ITER 0, LOSS 0.43545883893966675\n",
      "    --> EPOCH 2, ITER 2000, LOSS 0.7466403245925903\n",
      "    --> EPOCH 3, ITER 0, LOSS 0.7305166721343994\n",
      "    --> EPOCH 3, ITER 2000, LOSS 0.4855632781982422\n",
      "    --> TEST ACCURACY: 88%\n",
      "--------------------------------------------------\n",
      "Traning Prune 97 %\n",
      "    --> EPOCH 0, ITER 0, LOSS 2.2939212322235107\n",
      "    --> EPOCH 0, ITER 2000, LOSS 0.6888439655303955\n",
      "    --> EPOCH 1, ITER 0, LOSS 0.23043043911457062\n",
      "    --> EPOCH 1, ITER 2000, LOSS 0.6858566403388977\n",
      "    --> EPOCH 2, ITER 0, LOSS 1.1088992357254028\n",
      "    --> EPOCH 2, ITER 2000, LOSS 0.5543436408042908\n",
      "    --> EPOCH 3, ITER 0, LOSS 0.16439855098724365\n",
      "    --> EPOCH 3, ITER 2000, LOSS 0.256037175655365\n",
      "    --> TEST ACCURACY: 86%\n",
      "--------------------------------------------------\n",
      "Traning Prune 98 %\n",
      "    --> EPOCH 0, ITER 0, LOSS 2.2811741828918457\n",
      "    --> EPOCH 0, ITER 2000, LOSS 0.8077207207679749\n",
      "    --> EPOCH 1, ITER 0, LOSS 0.8304442763328552\n",
      "    --> EPOCH 1, ITER 2000, LOSS 0.3283369541168213\n",
      "    --> EPOCH 2, ITER 0, LOSS 0.5224865078926086\n",
      "    --> EPOCH 2, ITER 2000, LOSS 1.2305340766906738\n",
      "    --> EPOCH 3, ITER 0, LOSS 1.00161874294281\n",
      "    --> EPOCH 3, ITER 2000, LOSS 1.248711109161377\n",
      "    --> TEST ACCURACY: 82%\n",
      "--------------------------------------------------\n",
      "Traning Prune 99 %\n",
      "    --> EPOCH 0, ITER 0, LOSS 2.2926695346832275\n",
      "    --> EPOCH 0, ITER 2000, LOSS 2.303891897201538\n",
      "    --> EPOCH 1, ITER 0, LOSS 2.233466148376465\n",
      "    --> EPOCH 1, ITER 2000, LOSS 2.1880686283111572\n",
      "    --> EPOCH 2, ITER 0, LOSS 2.3016631603240967\n",
      "    --> EPOCH 2, ITER 2000, LOSS 2.3423614501953125\n",
      "    --> EPOCH 3, ITER 0, LOSS 2.389211654663086\n",
      "    --> EPOCH 3, ITER 2000, LOSS 2.1957314014434814\n",
      "    --> TEST ACCURACY: 14%\n",
      "--------------------------------------------------\n"
     ]
    }
   ],
   "source": [
    "accuracy_prune = []\n",
    "for i, (model, opt, loss) in enumerate(zip(models_pruned, optimizer, losses)):\n",
    "    print(\"Traning Prune {} %\".format(percentile_prune[i]))\n",
    "    train(model, trainloader, loss, opt, n_epochs = params['num_epochs'])\n",
    "    accuracy = test(model, testloader).numpy()\n",
    "    accuracy_prune.append(float(accuracy))\n",
    "    print('    --> TEST ACCURACY: {}%'.format(accuracy))\n",
    "    print('-'*50)"
   ]
  },
  {
   "cell_type": "code",
   "execution_count": 28,
   "metadata": {},
   "outputs": [],
   "source": [
    "%matplotlib inline \n",
    "import seaborn as sns\n",
    "import matplotlib.pyplot as plt"
   ]
  },
  {
   "cell_type": "code",
   "execution_count": 29,
   "metadata": {},
   "outputs": [
    {
     "data": {
      "text/plain": [
       "[Text(0, 0.5, 'Test Accuracy %'), Text(0.5, 0, 'Prune %')]"
      ]
     },
     "execution_count": 29,
     "metadata": {},
     "output_type": "execute_result"
    },
    {
     "data": {
      "image/png": "[encoded data removed]",
      "text/plain": [
       "<Figure size 1296x432 with 1 Axes>"
      ]
     },
     "metadata": {},
     "output_type": "display_data"
    }
   ],
   "source": [
    "sns.set(font_scale=1.2)\n",
    "sns.set_style(\"whitegrid\", {'grid.linestyle': '--'})\n",
    "plt.subplots(figsize=(18, 6))\n",
    "ax = sns.lineplot(percentile_prune, accuracy_prune)\n",
    "ax.set(xlabel='Prune %', ylabel='Test Accuracy %')"
   ]
  },
  {
   "cell_type": "code",
   "execution_count": 30,
   "metadata": {},
   "outputs": [
    {
     "name": "stdout",
     "output_type": "stream",
     "text": [
      "0.10104432397959184 0.01875\n",
      "ACCURACY: 96%\n",
      "0.20204878826530612 0.040625\n",
      "ACCURACY: 94%\n",
      "0.30313297193877553 0.05625\n",
      "ACCURACY: 95%\n",
      "0.5052216198979592 0.090625\n",
      "ACCURACY: 95%\n",
      "0.7073501275510204 0.121875\n",
      "ACCURACY: 94%\n",
      "0.9092793367346939 0.171875\n",
      "ACCURACY: 92%\n",
      "0.9195232780612245 0.1625\n",
      "ACCURACY: 91%\n",
      "0.9289301658163265 0.21875\n",
      "ACCURACY: 91%\n",
      "0.9396524234693877 0.171875\n",
      "ACCURACY: 91%\n",
      "0.9496572066326531 0.18125\n",
      "ACCURACY: 90%\n",
      "0.9594626913265306 0.20625\n",
      "ACCURACY: 88%\n",
      "0.9702248086734694 0.15625\n",
      "ACCURACY: 88%\n",
      "0.980110012755102 0.175\n",
      "ACCURACY: 86%\n",
      "0.9899553571428571 0.196875\n",
      "ACCURACY: 82%\n",
      "0.9999202806122449 0.209375\n",
      "ACCURACY: 14%\n"
     ]
    }
   ],
   "source": [
    "for mod in models_pruned:\n",
    "    print(count_zeros_percentage(mod.linear1.weight.data.numpy()),count_zeros_percentage(mod.linear2.weight.data.numpy()))\n",
    "    print('ACCURACY: {}%'.format(test(mod, testloader).numpy()))"
   ]
  },
  {
   "cell_type": "markdown",
   "metadata": {},
   "source": [
    "## Other Mask Methods"
   ]
  },
  {
   "cell_type": "code",
   "execution_count": null,
   "metadata": {},
   "outputs": [],
   "source": []
  },
  {
   "cell_type": "code",
   "execution_count": null,
   "metadata": {},
   "outputs": [],
   "source": []
  },
  {
   "cell_type": "code",
   "execution_count": null,
   "metadata": {},
   "outputs": [],
   "source": []
  },
  {
   "cell_type": "markdown",
   "metadata": {},
   "source": [
    "## References\n",
    "[1] https://github.com/zepx/pytorch-weight-prune/blob/develop/weight_pruning.py"
   ]
  }
 ],
 "metadata": {
  "kernelspec": {
   "display_name": "Bayesian",
   "language": "python",
   "name": "bayesian"
  },
  "language_info": {
   "codemirror_mode": {
    "name": "ipython",
    "version": 3
   },
   "file_extension": ".py",
   "mimetype": "text/x-python",
   "name": "python",
   "nbconvert_exporter": "python",
   "pygments_lexer": "ipython3",
   "version": "3.6.5"
  }
 },
 "nbformat": 4,
 "nbformat_minor": 2
}
