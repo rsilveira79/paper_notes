{
 "cells": [
  {
   "cell_type": "code",
   "execution_count": 1,
   "metadata": {},
   "outputs": [],
   "source": [
    "%matplotlib inline\n",
    "\n",
    "import torch\n",
    "from torch.autograd import Variable\n",
    "import torch.nn as nn\n",
    "import torch.nn.functional as F\n",
    "import torch.optim as optim\n",
    "\n",
    "import torchvision\n",
    "from torchvision import datasets, transforms\n",
    "\n",
    "import matplotlib.pyplot as plt\n",
    "import numpy as np"
   ]
  },
  {
   "cell_type": "code",
   "execution_count": 3,
   "metadata": {},
   "outputs": [],
   "source": [
    "params = {\n",
    "    'batch_size':  16,\n",
    "    'num_workers': 2,\n",
    "    'device':   'cpu'\n",
    "}\n",
    "transform = transforms.ToTensor()\n",
    "## Train\n",
    "trainset = torchvision.datasets.MNIST('../data', \n",
    "                                      train=True, \n",
    "                                      download=True, \n",
    "                                      transform=transform)\n",
    "trainloader = torch.utils.data.DataLoader(trainset, \n",
    "                                          batch_size=params['batch_size'], \n",
    "                                          shuffle=True, \n",
    "                                          num_workers=params['num_workers'])\n",
    "### Test \n",
    "testset = torchvision.datasets.MNIST('../data', \n",
    "                                     train=False, \n",
    "                                     download=True, \n",
    "                                     transform=transform)\n",
    "testloader = torch.utils.data.DataLoader(testset, \n",
    "                                         batch_size=params['batch_size'], \n",
    "                                         shuffle=False, \n",
    "                                         num_workers=params['num_workers'])"
   ]
  },
  {
   "cell_type": "code",
   "execution_count": 4,
   "metadata": {},
   "outputs": [
    {
     "data": {
      "text/plain": [
       "Dataset MNIST\n",
       "    Number of datapoints: 60000\n",
       "    Split: train\n",
       "    Root Location: ../data\n",
       "    Transforms (if any): ToTensor()\n",
       "    Target Transforms (if any): None"
      ]
     },
     "execution_count": 4,
     "metadata": {},
     "output_type": "execute_result"
    }
   ],
   "source": [
    "trainloader.dataset"
   ]
  },
  {
   "cell_type": "code",
   "execution_count": 5,
   "metadata": {},
   "outputs": [
    {
     "data": {
      "text/plain": [
       "Dataset MNIST\n",
       "    Number of datapoints: 10000\n",
       "    Split: test\n",
       "    Root Location: ../data\n",
       "    Transforms (if any): ToTensor()\n",
       "    Target Transforms (if any): None"
      ]
     },
     "execution_count": 5,
     "metadata": {},
     "output_type": "execute_result"
    }
   ],
   "source": [
    "testloader.dataset"
   ]
  },
  {
   "cell_type": "code",
   "execution_count": 6,
   "metadata": {},
   "outputs": [],
   "source": [
    "def show_batch(batch):\n",
    "    im = torchvision.utils.make_grid(batch)\n",
    "    plt.imshow(np.transpose(im.numpy(), (1, 2, 0)))"
   ]
  },
  {
   "cell_type": "code",
   "execution_count": 7,
   "metadata": {},
   "outputs": [
    {
     "name": "stdout",
     "output_type": "stream",
     "text": [
      "tensor([3, 5, 6, 3, 4, 3, 7, 3, 3, 8, 0, 6, 4, 5, 9, 3])\n"
     ]
    },
    {
     "data": {
      "image/png": "[encoded data removed]",
      "text/plain": [
       "<Figure size 432x288 with 1 Axes>"
      ]
     },
     "metadata": {},
     "output_type": "display_data"
    }
   ],
   "source": [
    "dataiter = iter(trainloader)\n",
    "images, labels = dataiter.next()\n",
    "print(labels)\n",
    "show_batch(images)"
   ]
  },
  {
   "cell_type": "code",
   "execution_count": 11,
   "metadata": {},
   "outputs": [
    {
     "data": {
      "text/plain": [
       "784"
      ]
     },
     "execution_count": 11,
     "metadata": {},
     "output_type": "execute_result"
    }
   ],
   "source": [
    "images.view(params['batch_size'], -1).size()[1]"
   ]
  },
  {
   "cell_type": "code",
   "execution_count": 16,
   "metadata": {},
   "outputs": [],
   "source": [
    "## Simple MLP\n",
    "class SequentialMNIST(nn.Module):\n",
    "    def __init__(self):\n",
    "        super(SequentialMNIST, self).__init__()\n",
    "        self.linear1 = nn.Linear(28*28, 256)\n",
    "        self.linear2 = nn.Linear(256, 10)\n",
    "\n",
    "    def forward(self, x):\n",
    "        h_relu = F.relu(self.linear1(x.view(params['batch_size'], -1)))\n",
    "        y_pred = self.linear2(h_relu)\n",
    "        return y_pred"
   ]
  },
  {
   "cell_type": "code",
   "execution_count": 17,
   "metadata": {},
   "outputs": [
    {
     "data": {
      "text/plain": [
       "SequentialMNIST(\n",
       "  (linear1): Linear(in_features=784, out_features=256, bias=True)\n",
       "  (linear2): Linear(in_features=256, out_features=10, bias=True)\n",
       ")"
      ]
     },
     "execution_count": 17,
     "metadata": {},
     "output_type": "execute_result"
    }
   ],
   "source": [
    "model = SequentialMNIST()\n",
    "model"
   ]
  },
  {
   "cell_type": "code",
   "execution_count": 29,
   "metadata": {},
   "outputs": [],
   "source": [
    "def train(model, trainloader, criterion, optimizer, n_epochs=10):\n",
    "    for t in range(n_epochs):\n",
    "        for i, data in enumerate(trainloader):\n",
    "            inputs, labels = data\n",
    "            optimizer.zero_grad()\n",
    "            outputs = model(inputs)\n",
    "            loss = criterion(outputs, labels) \n",
    "            loss.backward() \n",
    "            optimizer.step()\n",
    "\n",
    "            if not i % 2000:\n",
    "                print(\"EPOCH {}, ITER {}, LOSS {}\".format(t, i, loss.data.numpy()))"
   ]
  },
  {
   "cell_type": "code",
   "execution_count": 30,
   "metadata": {},
   "outputs": [
    {
     "name": "stdout",
     "output_type": "stream",
     "text": [
      "EPOCH 0, ITER 0, LOSS 0.06991058588027954\n",
      "EPOCH 0, ITER 2000, LOSS 0.012339800596237183\n",
      "EPOCH 1, ITER 0, LOSS 0.38659438490867615\n",
      "EPOCH 1, ITER 2000, LOSS 0.055041372776031494\n",
      "EPOCH 2, ITER 0, LOSS 0.05512750893831253\n",
      "EPOCH 2, ITER 2000, LOSS 0.2262093424797058\n",
      "EPOCH 3, ITER 0, LOSS 0.05527307093143463\n",
      "EPOCH 3, ITER 2000, LOSS 0.22099661827087402\n",
      "EPOCH 4, ITER 0, LOSS 0.2268744558095932\n",
      "EPOCH 4, ITER 2000, LOSS 0.041695140302181244\n",
      "EPOCH 5, ITER 0, LOSS 0.014265507459640503\n",
      "EPOCH 5, ITER 2000, LOSS 0.007996618747711182\n",
      "EPOCH 6, ITER 0, LOSS 0.012241750955581665\n",
      "EPOCH 6, ITER 2000, LOSS 0.002315312623977661\n",
      "EPOCH 7, ITER 0, LOSS 0.005773827433586121\n",
      "EPOCH 7, ITER 2000, LOSS 0.032729849219322205\n",
      "EPOCH 8, ITER 0, LOSS 0.009228110313415527\n",
      "EPOCH 8, ITER 2000, LOSS 0.006457164883613586\n",
      "EPOCH 9, ITER 0, LOSS 0.02551853656768799\n",
      "EPOCH 9, ITER 2000, LOSS 0.020156346261501312\n"
     ]
    }
   ],
   "source": [
    "criterion = nn.CrossEntropyLoss()\n",
    "optimizer = optim.Adam(model.parameters(), lr=1e-4)\n",
    "train(model, trainloader, criterion, optimizer)"
   ]
  },
  {
   "cell_type": "code",
   "execution_count": 31,
   "metadata": {},
   "outputs": [],
   "source": [
    "def predict(model, images):\n",
    "    outputs = model(images)\n",
    "    _, predicted = torch.max(outputs.data, 1)\n",
    "    return predicted"
   ]
  },
  {
   "cell_type": "code",
   "execution_count": 32,
   "metadata": {},
   "outputs": [
    {
     "name": "stdout",
     "output_type": "stream",
     "text": [
      "LABELS: [7 2 1 0 4 1 4 9 5 9 0 6 9 0 1 5]\n",
      "PREDICTION:  [7 2 1 0 4 1 4 9 5 9 0 6 9 0 1 5]\n"
     ]
    },
    {
     "data": {
      "image/png": "[encoded data removed]",
      "text/plain": [
       "<Figure size 432x288 with 1 Axes>"
      ]
     },
     "metadata": {},
     "output_type": "display_data"
    }
   ],
   "source": [
    "dataiter = iter(testloader)\n",
    "images, labels = dataiter.next()\n",
    "print(\"LABELS: {}\".format(labels.numpy()))\n",
    "print('PREDICTION: ', predict(model, images).numpy())\n",
    "show_batch(images)"
   ]
  },
  {
   "cell_type": "code",
   "execution_count": 33,
   "metadata": {},
   "outputs": [],
   "source": [
    "def test(model, testloader):\n",
    "    correct = 0\n",
    "    for data in testloader:\n",
    "        inputs, labels = data\n",
    "        pred = predict(model, inputs)\n",
    "        correct += (pred == labels).sum()\n",
    "    return 100 * correct / len(testset)"
   ]
  },
  {
   "cell_type": "code",
   "execution_count": 34,
   "metadata": {},
   "outputs": [
    {
     "name": "stdout",
     "output_type": "stream",
     "text": [
      "ACCURACY: 97%\n"
     ]
    }
   ],
   "source": [
    "print('ACCURACY: {}%'.format(test(model, testloader).numpy()))"
   ]
  },
  {
   "cell_type": "code",
   "execution_count": null,
   "metadata": {},
   "outputs": [],
   "source": []
  }
 ],
 "metadata": {
  "kernelspec": {
   "display_name": "Bayesian",
   "language": "python",
   "name": "bayesian"
  },
  "language_info": {
   "codemirror_mode": {
    "name": "ipython",
    "version": 3
   },
   "file_extension": ".py",
   "mimetype": "text/x-python",
   "name": "python",
   "nbconvert_exporter": "python",
   "pygments_lexer": "ipython3",
   "version": "3.6.5"
  }
 },
 "nbformat": 4,
 "nbformat_minor": 2
}
