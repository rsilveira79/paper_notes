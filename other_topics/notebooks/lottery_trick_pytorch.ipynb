{
 "cells": [
  {
   "cell_type": "code",
   "execution_count": 1,
   "metadata": {},
   "outputs": [],
   "source": [
    "%matplotlib inline\n",
    "\n",
    "import torch\n",
    "from torch.autograd import Variable\n",
    "import torch.nn as nn\n",
    "import torch.nn.functional as F\n",
    "import torch.optim as optim\n",
    "\n",
    "import torchvision\n",
    "from torchvision import datasets, transforms\n",
    "\n",
    "import matplotlib.pyplot as plt\n",
    "import numpy as np"
   ]
  },
  {
   "cell_type": "code",
   "execution_count": 14,
   "metadata": {},
   "outputs": [],
   "source": [
    "params = {\n",
    "    'batch_size':  16,\n",
    "    'num_workers': 2,\n",
    "    'device':   'cpu',\n",
    "    'num_epochs': 4,\n",
    "    'learning_rate': 0.0001,\n",
    "    'weight_decay': 5e-4,\n",
    "}\n",
    "transform = transforms.ToTensor()\n",
    "## Train\n",
    "trainset = torchvision.datasets.MNIST('../data', \n",
    "                                      train=True, \n",
    "                                      download=True, \n",
    "                                      transform=transform)\n",
    "trainloader = torch.utils.data.DataLoader(trainset, \n",
    "                                          batch_size=params['batch_size'], \n",
    "                                          shuffle=True, \n",
    "                                          num_workers=params['num_workers'])\n",
    "### Test \n",
    "testset = torchvision.datasets.MNIST('../data', \n",
    "                                     train=False, \n",
    "                                     download=True, \n",
    "                                     transform=transform)\n",
    "testloader = torch.utils.data.DataLoader(testset, \n",
    "                                         batch_size=params['batch_size'], \n",
    "                                         shuffle=False, \n",
    "                                         num_workers=params['num_workers'])"
   ]
  },
  {
   "cell_type": "code",
   "execution_count": 15,
   "metadata": {},
   "outputs": [
    {
     "data": {
      "text/plain": [
       "Dataset MNIST\n",
       "    Number of datapoints: 60000\n",
       "    Split: train\n",
       "    Root Location: ../data\n",
       "    Transforms (if any): ToTensor()\n",
       "    Target Transforms (if any): None"
      ]
     },
     "execution_count": 15,
     "metadata": {},
     "output_type": "execute_result"
    }
   ],
   "source": [
    "trainloader.dataset"
   ]
  },
  {
   "cell_type": "code",
   "execution_count": 16,
   "metadata": {},
   "outputs": [
    {
     "data": {
      "text/plain": [
       "Dataset MNIST\n",
       "    Number of datapoints: 10000\n",
       "    Split: test\n",
       "    Root Location: ../data\n",
       "    Transforms (if any): ToTensor()\n",
       "    Target Transforms (if any): None"
      ]
     },
     "execution_count": 16,
     "metadata": {},
     "output_type": "execute_result"
    }
   ],
   "source": [
    "testloader.dataset"
   ]
  },
  {
   "cell_type": "code",
   "execution_count": 17,
   "metadata": {},
   "outputs": [],
   "source": [
    "def show_batch(batch):\n",
    "    im = torchvision.utils.make_grid(batch)\n",
    "    plt.imshow(np.transpose(im.numpy(), (1, 2, 0)))"
   ]
  },
  {
   "cell_type": "code",
   "execution_count": 18,
   "metadata": {},
   "outputs": [
    {
     "name": "stdout",
     "output_type": "stream",
     "text": [
      "tensor([6, 9, 9, 6, 1, 3, 8, 4, 1, 8, 4, 2, 2, 7, 8, 3])\n"
     ]
    },
    {
     "data": {
      "image/png": "[encoded data removed]",
      "text/plain": [
       "<Figure size 432x288 with 1 Axes>"
      ]
     },
     "metadata": {},
     "output_type": "display_data"
    }
   ],
   "source": [
    "dataiter = iter(trainloader)\n",
    "images, labels = dataiter.next()\n",
    "print(labels)\n",
    "show_batch(images)"
   ]
  },
  {
   "cell_type": "code",
   "execution_count": 19,
   "metadata": {},
   "outputs": [
    {
     "data": {
      "text/plain": [
       "784"
      ]
     },
     "execution_count": 19,
     "metadata": {},
     "output_type": "execute_result"
    }
   ],
   "source": [
    "images.view(params['batch_size'], -1).size()[1]"
   ]
  },
  {
   "cell_type": "code",
   "execution_count": 20,
   "metadata": {},
   "outputs": [],
   "source": [
    "## Simple MLP\n",
    "class MLP(nn.Module):\n",
    "    def __init__(self):\n",
    "        super(MLP, self).__init__()\n",
    "        self.linear1 = nn.Linear(28*28, 256)\n",
    "        self.linear2 = nn.Linear(256, 10)\n",
    "\n",
    "    def forward(self, x):\n",
    "        h_relu = F.relu(self.linear1(x.view(params['batch_size'], -1)))\n",
    "        y_pred = self.linear2(h_relu)\n",
    "        return y_pred"
   ]
  },
  {
   "cell_type": "code",
   "execution_count": 21,
   "metadata": {},
   "outputs": [
    {
     "data": {
      "text/plain": [
       "MLP(\n",
       "  (linear1): Linear(in_features=784, out_features=256, bias=True)\n",
       "  (linear2): Linear(in_features=256, out_features=10, bias=True)\n",
       ")"
      ]
     },
     "execution_count": 21,
     "metadata": {},
     "output_type": "execute_result"
    }
   ],
   "source": [
    "model = MLP()\n",
    "model"
   ]
  },
  {
   "cell_type": "code",
   "execution_count": 507,
   "metadata": {},
   "outputs": [],
   "source": [
    "def train(model, trainloader, criterion, optimizer, n_epochs=10):\n",
    "    for t in range(n_epochs):\n",
    "        for i, data in enumerate(trainloader):\n",
    "            inputs, labels = data\n",
    "            optimizer.zero_grad()\n",
    "            outputs = model(inputs)\n",
    "            loss = criterion(outputs, labels) \n",
    "            loss.backward() \n",
    "            optimizer.step()\n",
    "\n",
    "            if not i % 2000:\n",
    "                print(\"    --> EPOCH {}, ITER {}, LOSS {}\".format(t, i, loss.data.numpy()))"
   ]
  },
  {
   "cell_type": "code",
   "execution_count": 23,
   "metadata": {},
   "outputs": [
    {
     "name": "stdout",
     "output_type": "stream",
     "text": [
      "EPOCH 0, ITER 0, LOSS 2.3445932865142822\n",
      "EPOCH 0, ITER 2000, LOSS 0.2205289900302887\n",
      "EPOCH 1, ITER 0, LOSS 0.24082089960575104\n",
      "EPOCH 1, ITER 2000, LOSS 0.13819006085395813\n",
      "EPOCH 2, ITER 0, LOSS 0.22084903717041016\n",
      "EPOCH 2, ITER 2000, LOSS 0.1230885237455368\n",
      "EPOCH 3, ITER 0, LOSS 0.2177715003490448\n",
      "EPOCH 3, ITER 2000, LOSS 0.1402275413274765\n"
     ]
    }
   ],
   "source": [
    "criterion = nn.CrossEntropyLoss()\n",
    "optimizer = optim.Adam(model.parameters(), lr=params['learning_rate'])\n",
    "train(model, trainloader, criterion, optimizer, n_epochs = params['num_epochs'])"
   ]
  },
  {
   "cell_type": "code",
   "execution_count": 25,
   "metadata": {},
   "outputs": [],
   "source": [
    "def predict(model, images):\n",
    "    outputs = model(images)\n",
    "    _, predicted = torch.max(outputs.data, 1)\n",
    "    return predicted"
   ]
  },
  {
   "cell_type": "code",
   "execution_count": 26,
   "metadata": {},
   "outputs": [
    {
     "name": "stdout",
     "output_type": "stream",
     "text": [
      "LABELS: [7 2 1 0 4 1 4 9 5 9 0 6 9 0 1 5]\n",
      "PREDICTION:  [7 2 1 0 4 1 4 9 6 9 0 6 9 0 1 5]\n"
     ]
    },
    {
     "data": {
      "image/png": "[encoded data removed]",
      "text/plain": [
       "<Figure size 432x288 with 1 Axes>"
      ]
     },
     "metadata": {},
     "output_type": "display_data"
    }
   ],
   "source": [
    "dataiter = iter(testloader)\n",
    "images, labels = dataiter.next()\n",
    "print(\"LABELS: {}\".format(labels.numpy()))\n",
    "print('PREDICTION: ', predict(model, images).numpy())\n",
    "show_batch(images)"
   ]
  },
  {
   "cell_type": "code",
   "execution_count": 27,
   "metadata": {},
   "outputs": [],
   "source": [
    "def test(model, testloader):\n",
    "    correct = 0\n",
    "    for data in testloader:\n",
    "        inputs, labels = data\n",
    "        pred = predict(model, inputs)\n",
    "        correct += (pred == labels).sum()\n",
    "    return 100 * correct / len(testset)"
   ]
  },
  {
   "cell_type": "code",
   "execution_count": 28,
   "metadata": {},
   "outputs": [
    {
     "name": "stdout",
     "output_type": "stream",
     "text": [
      "ACCURACY: 95%\n"
     ]
    }
   ],
   "source": [
    "print('ACCURACY: {}%'.format(test(model, testloader).numpy()))"
   ]
  },
  {
   "cell_type": "markdown",
   "metadata": {},
   "source": [
    "## Using Weight Pruning"
   ]
  },
  {
   "cell_type": "code",
   "execution_count": 464,
   "metadata": {},
   "outputs": [],
   "source": [
    "params = {\n",
    "    'pruning_perc': 85.,\n",
    "    'batch_size': 16, \n",
    "    'test_batch_size': 100,\n",
    "    'num_epochs': 4,\n",
    "    'learning_rate': 0.001,\n",
    "    'weight_decay': 5e-4,\n",
    "}"
   ]
  },
  {
   "cell_type": "code",
   "execution_count": 465,
   "metadata": {},
   "outputs": [],
   "source": [
    "class MaskedLinear(nn.Linear):\n",
    "    def __init__(self, in_features, out_features, bias=True):\n",
    "        super(MaskedLinear, self).__init__(in_features, out_features, bias)\n",
    "        self.mask_flag = False\n",
    "    \n",
    "    def set_mask(self, mask):\n",
    "        self.register_buffer('mask', mask)\n",
    "        mask_var = self.get_mask()\n",
    "        self.weight.data = self.weight.data*mask_var.data\n",
    "        self.mask_flag = True\n",
    "    \n",
    "    def get_mask(self):\n",
    "        return self.mask.clone().detach().requires_grad_(False)\n",
    "    \n",
    "    def forward(self, x):\n",
    "        if self.mask_flag == True:\n",
    "            mask_var = self.get_mask()\n",
    "            weight = self.weight * mask_var\n",
    "            return F.linear(x, weight, self.bias)\n",
    "        else:\n",
    "            return F.linear(x, self.weight, self.bias)"
   ]
  },
  {
   "cell_type": "code",
   "execution_count": 466,
   "metadata": {},
   "outputs": [],
   "source": [
    "## Simple MLP\n",
    "class MLP_weight_prunning(nn.Module):\n",
    "    def __init__(self):\n",
    "        super(MLP_weight_prunning, self).__init__()\n",
    "        self.linear1 = MaskedLinear(28*28, 256)\n",
    "        self.linear2 = MaskedLinear(256, 10)\n",
    "\n",
    "    def forward(self, x):\n",
    "        h_relu = F.relu(self.linear1(x.view(params['batch_size'], -1)))\n",
    "        y_pred = self.linear2(h_relu)\n",
    "        return y_pred\n",
    "    def set_masks(self, masks):\n",
    "    # Should be a less manual way to set masks\n",
    "    # Leave it for the future\n",
    "        self.linear1.set_mask(masks[0])\n",
    "        self.linear2.set_mask(masks[1])"
   ]
  },
  {
   "cell_type": "code",
   "execution_count": 467,
   "metadata": {},
   "outputs": [
    {
     "name": "stdout",
     "output_type": "stream",
     "text": [
      "ACCURACY: 11%\n"
     ]
    },
    {
     "data": {
      "text/plain": [
       "MLP_weight_prunning(\n",
       "  (linear1): MaskedLinear(in_features=784, out_features=256, bias=True)\n",
       "  (linear2): MaskedLinear(in_features=256, out_features=10, bias=True)\n",
       ")"
      ]
     },
     "execution_count": 467,
     "metadata": {},
     "output_type": "execute_result"
    }
   ],
   "source": [
    "model_2 = MLP_weight_prunning()\n",
    "print('ACCURACY: {}%'.format(test(model_2, testloader).numpy()))\n",
    "model_2"
   ]
  },
  {
   "cell_type": "code",
   "execution_count": 229,
   "metadata": {},
   "outputs": [
    {
     "name": "stdout",
     "output_type": "stream",
     "text": [
      "torch.Size([256, 784])\n"
     ]
    },
    {
     "data": {
      "text/plain": [
       "tensor([[ 0.0351, -0.0245, -0.0308,  ..., -0.0335,  0.0011,  0.0050],\n",
       "        [ 0.0100,  0.0053, -0.0136,  ...,  0.0299, -0.0240, -0.0132],\n",
       "        [-0.0307, -0.0164, -0.0338,  ..., -0.0074,  0.0133,  0.0300],\n",
       "        ...,\n",
       "        [ 0.0234,  0.0052,  0.0059,  ..., -0.0203,  0.0118, -0.0225],\n",
       "        [ 0.0089, -0.0007, -0.0033,  ...,  0.0308,  0.0101,  0.0013],\n",
       "        [ 0.0164,  0.0022, -0.0179,  ..., -0.0174,  0.0249, -0.0245]])"
      ]
     },
     "execution_count": 229,
     "metadata": {},
     "output_type": "execute_result"
    }
   ],
   "source": [
    "print(model_2.linear1.weight.data.shape)\n",
    "model_2.linear1.weight.data"
   ]
  },
  {
   "cell_type": "code",
   "execution_count": 230,
   "metadata": {},
   "outputs": [
    {
     "data": {
      "text/plain": [
       "0.02852629348635674"
      ]
     },
     "execution_count": 230,
     "metadata": {},
     "output_type": "execute_result"
    }
   ],
   "source": [
    "np.percentile(model_2.linear1.weight.data.numpy(),90)"
   ]
  },
  {
   "cell_type": "code",
   "execution_count": 231,
   "metadata": {},
   "outputs": [
    {
     "name": "stdout",
     "output_type": "stream",
     "text": [
      "torch.Size([10, 256])\n"
     ]
    },
    {
     "data": {
      "text/plain": [
       "tensor([[-0.0130,  0.0190, -0.0212,  ..., -0.0004,  0.0405,  0.0344],\n",
       "        [-0.0181,  0.0259,  0.0526,  ..., -0.0068, -0.0525, -0.0465],\n",
       "        [ 0.0481, -0.0533,  0.0124,  ..., -0.0127,  0.0248, -0.0228],\n",
       "        ...,\n",
       "        [ 0.0155,  0.0536,  0.0338,  ...,  0.0134, -0.0541,  0.0248],\n",
       "        [-0.0022,  0.0152, -0.0224,  ...,  0.0129, -0.0559,  0.0302],\n",
       "        [ 0.0618,  0.0288,  0.0431,  ...,  0.0525, -0.0256, -0.0605]])"
      ]
     },
     "execution_count": 231,
     "metadata": {},
     "output_type": "execute_result"
    }
   ],
   "source": [
    "print(model_2.linear2.weight.data.shape)\n",
    "model_2.linear2.weight.data"
   ]
  },
  {
   "cell_type": "code",
   "execution_count": 239,
   "metadata": {},
   "outputs": [],
   "source": [
    "def weight_prune(model, pruning_perc):\n",
    "    '''\n",
    "    Prune pruning_perc% weights globally (not layer-wise)\n",
    "    arXiv: 1606.09274\n",
    "    '''    \n",
    "    all_weights = []\n",
    "    for p in model.parameters():\n",
    "        if len(p.data.size()) != 1:\n",
    "        ## Skip bias layers\n",
    "            all_weights += list(p.cpu().data.abs().numpy().flatten())\n",
    "    threshold = np.percentile(np.array(all_weights), pruning_perc)\n",
    "\n",
    "    # generate mask\n",
    "    masks = []\n",
    "    for p in model.parameters():\n",
    "        if len(p.data.size()) != 1:\n",
    "            pruned_inds = p.data.abs() > threshold\n",
    "            masks.append(pruned_inds.float())\n",
    "    return masks"
   ]
  },
  {
   "cell_type": "code",
   "execution_count": 508,
   "metadata": {},
   "outputs": [],
   "source": [
    "def weight_prune_2(model, pruning_perc): \n",
    "    all_masks = []\n",
    "    for p in model.parameters():\n",
    "        mask = []\n",
    "        if len(p.data.size()) != 1:\n",
    "        ## Skip bias layers\n",
    "            weights = list(p.cpu().data.abs().numpy().flatten())\n",
    "            threshold = np.percentile(np.array(weights), pruning_perc)\n",
    "            pruned_inds = p.data.abs() > threshold\n",
    "            all_masks.append(pruned_inds.float())\n",
    "    return all_masks"
   ]
  },
  {
   "cell_type": "code",
   "execution_count": 509,
   "metadata": {},
   "outputs": [
    {
     "data": {
      "text/plain": [
       "[tensor([[1., 1., 1.,  ..., 1., 0., 1.],\n",
       "         [1., 1., 1.,  ..., 0., 1., 0.],\n",
       "         [1., 1., 1.,  ..., 1., 1., 1.],\n",
       "         ...,\n",
       "         [0., 1., 1.,  ..., 1., 1., 1.],\n",
       "         [1., 1., 1.,  ..., 1., 0., 1.],\n",
       "         [1., 1., 1.,  ..., 1., 1., 1.]]),\n",
       " tensor([[1., 1., 1.,  ..., 1., 1., 1.],\n",
       "         [1., 0., 1.,  ..., 1., 1., 1.],\n",
       "         [1., 1., 1.,  ..., 1., 1., 1.],\n",
       "         ...,\n",
       "         [1., 1., 0.,  ..., 1., 0., 1.],\n",
       "         [1., 1., 1.,  ..., 1., 1., 1.],\n",
       "         [1., 1., 1.,  ..., 1., 1., 1.]])]"
      ]
     },
     "execution_count": 509,
     "metadata": {},
     "output_type": "execute_result"
    }
   ],
   "source": [
    "masks = weight_prune_2(model_2, 10)\n",
    "masks"
   ]
  },
  {
   "cell_type": "code",
   "execution_count": 510,
   "metadata": {},
   "outputs": [],
   "source": [
    "def count_zeros_percentage(vec):\n",
    "    return np.count_nonzero(vec.flatten()==0)/vec.flatten().shape[0]"
   ]
  },
  {
   "cell_type": "code",
   "execution_count": 511,
   "metadata": {},
   "outputs": [],
   "source": [
    "def prune_model(model, pruning_perc):\n",
    "    mask_prune = weight_prune_2(model, pruning_perc)\n",
    "    model.set_masks(mask_prune)\n",
    "    return model"
   ]
  },
  {
   "cell_type": "code",
   "execution_count": 512,
   "metadata": {},
   "outputs": [],
   "source": [
    "percentile_prune = [10, 20, 30, 50, 70, 90, 91, 92, 93, 94, 95, 96, 97, 98, 99]"
   ]
  },
  {
   "cell_type": "code",
   "execution_count": 513,
   "metadata": {},
   "outputs": [],
   "source": [
    "models_pruned = [prune_model(MLP_weight_prunning(), i) for i in percentile_prune]\n",
    "optimizer = [optim.Adam(models_pruned[i].parameters(),lr=params['learning_rate']) for i in range(len(percentile_prune))]\n",
    "losses = [nn.CrossEntropyLoss() for i in range(len(percentile_prune))]"
   ]
  },
  {
   "cell_type": "code",
   "execution_count": 514,
   "metadata": {},
   "outputs": [
    {
     "name": "stdout",
     "output_type": "stream",
     "text": [
      "Traning Prune 10 %\n",
      "    --> EPOCH 0, ITER 0, LOSS 2.3262152671813965\n",
      "    --> EPOCH 0, ITER 2000, LOSS 0.02454419434070587\n",
      "    --> EPOCH 1, ITER 0, LOSS 0.06956109404563904\n",
      "    --> EPOCH 1, ITER 2000, LOSS 0.1253294050693512\n",
      "    --> EPOCH 2, ITER 0, LOSS 0.15861955285072327\n",
      "    --> EPOCH 2, ITER 2000, LOSS 0.10021628439426422\n",
      "    --> EPOCH 3, ITER 0, LOSS 0.011322751641273499\n",
      "    --> EPOCH 3, ITER 2000, LOSS 0.0013284385204315186\n",
      "    --> TEST ACCURACY: 97%\n",
      "--------------------------------------------------\n",
      "Traning Prune 20 %\n",
      "    --> EPOCH 0, ITER 0, LOSS 2.330096960067749\n",
      "    --> EPOCH 0, ITER 2000, LOSS 0.04885120689868927\n",
      "    --> EPOCH 1, ITER 0, LOSS 0.014104753732681274\n",
      "    --> EPOCH 1, ITER 2000, LOSS 0.27286261320114136\n",
      "    --> EPOCH 2, ITER 0, LOSS 0.01769845187664032\n",
      "    --> EPOCH 2, ITER 2000, LOSS 0.02326717972755432\n",
      "    --> EPOCH 3, ITER 0, LOSS 0.0016768276691436768\n",
      "    --> EPOCH 3, ITER 2000, LOSS 0.005470246076583862\n",
      "    --> TEST ACCURACY: 97%\n",
      "--------------------------------------------------\n",
      "Traning Prune 30 %\n",
      "    --> EPOCH 0, ITER 0, LOSS 2.332886219024658\n",
      "    --> EPOCH 0, ITER 2000, LOSS 0.04582248628139496\n",
      "    --> EPOCH 1, ITER 0, LOSS 0.014382496476173401\n",
      "    --> EPOCH 1, ITER 2000, LOSS 0.015354923903942108\n",
      "    --> EPOCH 2, ITER 0, LOSS 0.02509574592113495\n",
      "    --> EPOCH 2, ITER 2000, LOSS 0.03173328936100006\n",
      "    --> EPOCH 3, ITER 0, LOSS 0.013168662786483765\n",
      "    --> EPOCH 3, ITER 2000, LOSS 0.00547376275062561\n",
      "    --> TEST ACCURACY: 97%\n",
      "--------------------------------------------------\n",
      "Traning Prune 50 %\n",
      "    --> EPOCH 0, ITER 0, LOSS 2.310215473175049\n",
      "    --> EPOCH 0, ITER 2000, LOSS 0.7205843925476074\n",
      "    --> EPOCH 1, ITER 0, LOSS 0.06675150990486145\n",
      "    --> EPOCH 1, ITER 2000, LOSS 0.1479981541633606\n",
      "    --> EPOCH 2, ITER 0, LOSS 0.05792371928691864\n",
      "    --> EPOCH 2, ITER 2000, LOSS 0.0027867108583450317\n",
      "    --> EPOCH 3, ITER 0, LOSS 0.01562296599149704\n",
      "    --> EPOCH 3, ITER 2000, LOSS 0.0434822253882885\n",
      "    --> TEST ACCURACY: 97%\n",
      "--------------------------------------------------\n",
      "Traning Prune 70 %\n",
      "    --> EPOCH 0, ITER 0, LOSS 2.3167710304260254\n",
      "    --> EPOCH 0, ITER 2000, LOSS 0.1016843244433403\n",
      "    --> EPOCH 1, ITER 0, LOSS 0.039975956082344055\n",
      "    --> EPOCH 1, ITER 2000, LOSS 0.017577558755874634\n",
      "    --> EPOCH 2, ITER 0, LOSS 0.011370569467544556\n",
      "    --> EPOCH 2, ITER 2000, LOSS 0.013791970908641815\n",
      "    --> EPOCH 3, ITER 0, LOSS 0.15403519570827484\n",
      "    --> EPOCH 3, ITER 2000, LOSS 0.011304862797260284\n",
      "    --> TEST ACCURACY: 97%\n",
      "--------------------------------------------------\n",
      "Traning Prune 90 %\n",
      "    --> EPOCH 0, ITER 0, LOSS 2.3242006301879883\n",
      "    --> EPOCH 0, ITER 2000, LOSS 0.25147464871406555\n",
      "    --> EPOCH 1, ITER 0, LOSS 0.11309102177619934\n",
      "    --> EPOCH 1, ITER 2000, LOSS 0.04596502333879471\n",
      "    --> EPOCH 2, ITER 0, LOSS 0.32687893509864807\n",
      "    --> EPOCH 2, ITER 2000, LOSS 0.21207188069820404\n",
      "    --> EPOCH 3, ITER 0, LOSS 0.21020212769508362\n",
      "    --> EPOCH 3, ITER 2000, LOSS 0.030942818149924278\n",
      "    --> TEST ACCURACY: 94%\n",
      "--------------------------------------------------\n",
      "Traning Prune 91 %\n",
      "    --> EPOCH 0, ITER 0, LOSS 2.303966999053955\n",
      "    --> EPOCH 0, ITER 2000, LOSS 0.4217027425765991\n",
      "    --> EPOCH 1, ITER 0, LOSS 0.35260704159736633\n",
      "    --> EPOCH 1, ITER 2000, LOSS 0.1834186464548111\n",
      "    --> EPOCH 2, ITER 0, LOSS 0.16230148077011108\n",
      "    --> EPOCH 2, ITER 2000, LOSS 0.03556780889630318\n",
      "    --> EPOCH 3, ITER 0, LOSS 0.12090140581130981\n",
      "    --> EPOCH 3, ITER 2000, LOSS 0.034554168581962585\n",
      "    --> TEST ACCURACY: 94%\n",
      "--------------------------------------------------\n",
      "Traning Prune 92 %\n",
      "    --> EPOCH 0, ITER 0, LOSS 2.2940609455108643\n",
      "    --> EPOCH 0, ITER 2000, LOSS 0.2021608203649521\n",
      "    --> EPOCH 1, ITER 0, LOSS 0.2694823443889618\n",
      "    --> EPOCH 1, ITER 2000, LOSS 0.13776661455631256\n",
      "    --> EPOCH 2, ITER 0, LOSS 0.054786115884780884\n",
      "    --> EPOCH 2, ITER 2000, LOSS 0.5386084914207458\n",
      "    --> EPOCH 3, ITER 0, LOSS 0.06109604239463806\n",
      "    --> EPOCH 3, ITER 2000, LOSS 0.49298280477523804\n",
      "    --> TEST ACCURACY: 94%\n",
      "--------------------------------------------------\n",
      "Traning Prune 93 %\n",
      "    --> EPOCH 0, ITER 0, LOSS 2.294093608856201\n",
      "    --> EPOCH 0, ITER 2000, LOSS 0.12910977005958557\n",
      "    --> EPOCH 1, ITER 0, LOSS 0.35857057571411133\n",
      "    --> EPOCH 1, ITER 2000, LOSS 0.39979690313339233\n",
      "    --> EPOCH 2, ITER 0, LOSS 0.08794382959604263\n",
      "    --> EPOCH 2, ITER 2000, LOSS 0.2842296361923218\n",
      "    --> EPOCH 3, ITER 0, LOSS 0.21058407425880432\n",
      "    --> EPOCH 3, ITER 2000, LOSS 0.16159294545650482\n",
      "    --> TEST ACCURACY: 94%\n",
      "--------------------------------------------------\n",
      "Traning Prune 94 %\n",
      "    --> EPOCH 0, ITER 0, LOSS 2.312898874282837\n",
      "    --> EPOCH 0, ITER 2000, LOSS 0.8249102830886841\n",
      "    --> EPOCH 1, ITER 0, LOSS 0.2643029987812042\n",
      "    --> EPOCH 1, ITER 2000, LOSS 0.3823244571685791\n",
      "    --> EPOCH 2, ITER 0, LOSS 0.13154979050159454\n",
      "    --> EPOCH 2, ITER 2000, LOSS 0.052829399704933167\n",
      "    --> EPOCH 3, ITER 0, LOSS 0.14355012774467468\n",
      "    --> EPOCH 3, ITER 2000, LOSS 0.3362114131450653\n",
      "    --> TEST ACCURACY: 93%\n",
      "--------------------------------------------------\n",
      "Traning Prune 95 %\n",
      "    --> EPOCH 0, ITER 0, LOSS 2.307779550552368\n",
      "    --> EPOCH 0, ITER 2000, LOSS 0.4169462323188782\n",
      "    --> EPOCH 1, ITER 0, LOSS 0.09549092501401901\n",
      "    --> EPOCH 1, ITER 2000, LOSS 0.24704232811927795\n",
      "    --> EPOCH 2, ITER 0, LOSS 0.7797476053237915\n",
      "    --> EPOCH 2, ITER 2000, LOSS 0.1240382269024849\n",
      "    --> EPOCH 3, ITER 0, LOSS 0.09788249433040619\n",
      "    --> EPOCH 3, ITER 2000, LOSS 0.10220161825418472\n",
      "    --> TEST ACCURACY: 92%\n",
      "--------------------------------------------------\n",
      "Traning Prune 96 %\n",
      "    --> EPOCH 0, ITER 0, LOSS 2.306770086288452\n",
      "    --> EPOCH 0, ITER 2000, LOSS 0.411925345659256\n",
      "    --> EPOCH 1, ITER 0, LOSS 0.28339284658432007\n",
      "    --> EPOCH 1, ITER 2000, LOSS 0.294646680355072\n",
      "    --> EPOCH 2, ITER 0, LOSS 0.37235522270202637\n",
      "    --> EPOCH 2, ITER 2000, LOSS 0.5700470209121704\n",
      "    --> EPOCH 3, ITER 0, LOSS 0.1389099359512329\n",
      "    --> EPOCH 3, ITER 2000, LOSS 0.3725927174091339\n",
      "    --> TEST ACCURACY: 90%\n",
      "--------------------------------------------------\n",
      "Traning Prune 97 %\n",
      "    --> EPOCH 0, ITER 0, LOSS 2.30354642868042\n",
      "    --> EPOCH 0, ITER 2000, LOSS 0.5087864995002747\n",
      "    --> EPOCH 1, ITER 0, LOSS 0.4095906615257263\n",
      "    --> EPOCH 1, ITER 2000, LOSS 0.7216520309448242\n",
      "    --> EPOCH 2, ITER 0, LOSS 0.5458022356033325\n",
      "    --> EPOCH 2, ITER 2000, LOSS 0.38434943556785583\n",
      "    --> EPOCH 3, ITER 0, LOSS 0.3207648992538452\n",
      "    --> EPOCH 3, ITER 2000, LOSS 0.5585335493087769\n",
      "    --> TEST ACCURACY: 86%\n",
      "--------------------------------------------------\n",
      "Traning Prune 98 %\n",
      "    --> EPOCH 0, ITER 0, LOSS 2.298245668411255\n",
      "    --> EPOCH 0, ITER 2000, LOSS 1.1447288990020752\n",
      "    --> EPOCH 1, ITER 0, LOSS 0.7119348049163818\n",
      "    --> EPOCH 1, ITER 2000, LOSS 0.5837205648422241\n",
      "    --> EPOCH 2, ITER 0, LOSS 0.7777007818222046\n",
      "    --> EPOCH 2, ITER 2000, LOSS 1.0208882093429565\n",
      "    --> EPOCH 3, ITER 0, LOSS 0.9743617177009583\n",
      "    --> EPOCH 3, ITER 2000, LOSS 0.6426073908805847\n",
      "    --> TEST ACCURACY: 76%\n",
      "--------------------------------------------------\n",
      "Traning Prune 99 %\n",
      "    --> EPOCH 0, ITER 0, LOSS 2.3094401359558105\n",
      "    --> EPOCH 0, ITER 2000, LOSS 1.6991863250732422\n",
      "    --> EPOCH 1, ITER 0, LOSS 1.4930014610290527\n",
      "    --> EPOCH 1, ITER 2000, LOSS 1.8689650297164917\n",
      "    --> EPOCH 2, ITER 0, LOSS 1.4064655303955078\n",
      "    --> EPOCH 2, ITER 2000, LOSS 1.8448922634124756\n",
      "    --> EPOCH 3, ITER 0, LOSS 2.03402042388916\n",
      "    --> EPOCH 3, ITER 2000, LOSS 1.7202980518341064\n",
      "    --> TEST ACCURACY: 42%\n",
      "--------------------------------------------------\n"
     ]
    }
   ],
   "source": [
    "accuracy_prune = []\n",
    "for i, (model, opt, loss) in enumerate(zip(models_pruned, optimizer, losses)):\n",
    "    print(\"Traning Prune {} %\".format(percentile_prune[i]))\n",
    "    train(model, trainloader, loss, opt, n_epochs = params['num_epochs'])\n",
    "    accuracy = test(model, testloader).numpy()\n",
    "    accuracy_prune.append(float(accuracy))\n",
    "    print('    --> TEST ACCURACY: {}%'.format(accuracy))\n",
    "    print('-'*50)"
   ]
  },
  {
   "cell_type": "code",
   "execution_count": 524,
   "metadata": {},
   "outputs": [],
   "source": [
    "%matplotlib inline \n",
    "import seaborn as sns\n",
    "import matplotlib.pyplot as plt"
   ]
  },
  {
   "cell_type": "code",
   "execution_count": 531,
   "metadata": {},
   "outputs": [
    {
     "data": {
      "text/plain": [
       "[Text(0, 0.5, 'Test Accuracy %'), Text(0.5, 0, 'Prune %')]"
      ]
     },
     "execution_count": 531,
     "metadata": {},
     "output_type": "execute_result"
    },
    {
     "data": {
      "image/png": "[encoded data removed]",
      "text/plain": [
       "<Figure size 1296x432 with 1 Axes>"
      ]
     },
     "metadata": {},
     "output_type": "display_data"
    }
   ],
   "source": [
    "sns.set(font_scale=1.2)\n",
    "sns.set_style(\"whitegrid\", {'grid.linestyle': '--'})\n",
    "plt.subplots(figsize=(18, 6))\n",
    "ax = sns.lineplot(percentile_prune, accuracy_prune)\n",
    "ax.set(xlabel='Prune %', ylabel='Test Accuracy %')"
   ]
  },
  {
   "cell_type": "code",
   "execution_count": 501,
   "metadata": {},
   "outputs": [
    {
     "name": "stdout",
     "output_type": "stream",
     "text": [
      "0.20000099649234693 0.2\n",
      "ACCURACY: 97%\n",
      "0.2999990035076531 0.3\n",
      "ACCURACY: 97%\n",
      "0.5 0.5\n",
      "ACCURACY: 97%\n",
      "0.7000009964923469 0.7\n",
      "ACCURACY: 97%\n",
      "0.8999970105229592 0.9\n",
      "ACCURACY: 94%\n",
      "0.9199966119260204 0.919921875\n",
      "ACCURACY: 94%\n",
      "0.9399962133290817 0.93984375\n",
      "ACCURACY: 93%\n",
      "0.9599958147321429 0.959765625\n",
      "ACCURACY: 90%\n",
      "0.9800003985969388 0.9796875\n",
      "ACCURACY: 78%\n",
      "0.9900001992984694 0.98984375\n",
      "ACCURACY: 54%\n"
     ]
    }
   ],
   "source": [
    "for mod in models_pruned:\n",
    "    print(count_zeros_percentage(mod.linear1.weight.data.numpy()),count_zeros_percentage(mod.linear2.weight.data.numpy()))\n",
    "    print('ACCURACY: {}%'.format(test(mod, testloader).numpy()))"
   ]
  },
  {
   "cell_type": "markdown",
   "metadata": {},
   "source": [
    "## References\n",
    "[1] https://github.com/zepx/pytorch-weight-prune/blob/develop/weight_pruning.py"
   ]
  }
 ],
 "metadata": {
  "kernelspec": {
   "display_name": "Bayesian",
   "language": "python",
   "name": "bayesian"
  },
  "language_info": {
   "codemirror_mode": {
    "name": "ipython",
    "version": 3
   },
   "file_extension": ".py",
   "mimetype": "text/x-python",
   "name": "python",
   "nbconvert_exporter": "python",
   "pygments_lexer": "ipython3",
   "version": "3.6.5"
  }
 },
 "nbformat": 4,
 "nbformat_minor": 2
}
